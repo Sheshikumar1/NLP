{
 "cells": [
  {
   "cell_type": "markdown",
   "id": "a0eefbf5",
   "metadata": {},
   "source": [
    "### Regular Expressions"
   ]
  },
  {
   "cell_type": "code",
   "execution_count": 1,
   "id": "1150d399",
   "metadata": {},
   "outputs": [],
   "source": [
    "import re\n"
   ]
  },
  {
   "cell_type": "markdown",
   "id": "77b498c1",
   "metadata": {},
   "source": [
    "## search"
   ]
  },
  {
   "cell_type": "code",
   "execution_count": 6,
   "id": "45ff1855",
   "metadata": {},
   "outputs": [
    {
     "name": "stdout",
     "output_type": "stream",
     "text": [
      "Occurences of a-z:  <re.Match object; span=(5, 8), match='was'>\n"
     ]
    }
   ],
   "source": [
    "sent3 = \"1947 was when India became independent.\"\n",
    "print(\"Occurences of a-z: \",re.search(r\"[a-z]+\",sent3)) \n"
   ]
  },
  {
   "cell_type": "code",
   "execution_count": 7,
   "id": "1e840f54",
   "metadata": {},
   "outputs": [
    {
     "name": "stdout",
     "output_type": "stream",
     "text": [
      "Occurences of 0-9:  <re.Match object; span=(0, 4), match='1947'>\n"
     ]
    }
   ],
   "source": [
    "sent3 = \"1947 was when India became independent.\"\n",
    "print(\"Occurences of 0-9: \",re.search(r\"[0-9]+\",sent3))   "
   ]
  },
  {
   "cell_type": "code",
   "execution_count": 8,
   "id": "69536d41",
   "metadata": {},
   "outputs": [
    {
     "name": "stdout",
     "output_type": "stream",
     "text": [
      "Occurences of w and space:  <re.Match object; span=(0, 38), match='1947_was when India became independent'>\n"
     ]
    }
   ],
   "source": [
    "sent3 = \"1947_was when India became independent.\"\n",
    "print(\"Occurences of w and space: \",re.search(r\"[\\w ]+\",sent3))"
   ]
  },
  {
   "cell_type": "markdown",
   "id": "4d32ed07",
   "metadata": {},
   "source": [
    "### SUB"
   ]
  },
  {
   "cell_type": "code",
   "execution_count": 11,
   "id": "fb542ac0",
   "metadata": {},
   "outputs": [
    {
     "name": "stdout",
     "output_type": "stream",
     "text": [
      "I like tea.\n"
     ]
    }
   ],
   "source": [
    "sent = \"I like coffee.\"\n",
    "print(re.sub(r\"coffee\",\"tea\",sent)) "
   ]
  },
  {
   "cell_type": "markdown",
   "id": "f2895878",
   "metadata": {},
   "source": [
    "#### FINDALL"
   ]
  },
  {
   "cell_type": "code",
   "execution_count": 13,
   "id": "b7ac859c",
   "metadata": {},
   "outputs": [
    {
     "name": "stdout",
     "output_type": "stream",
     "text": [
      "['coffee', 'coffee', 'coffee', 'coffee']\n",
      "4\n"
     ]
    }
   ],
   "source": [
    "sent = \"I like coffee and coffee is amazing. coffee keeps me awake. coffee is bad\"\n",
    "print(re.findall(r\"coffee\",sent))\n",
    "print(len(re.findall(r\"coffee\",sent)))\n",
    "\n"
   ]
  },
  {
   "cell_type": "code",
   "execution_count": null,
   "id": "4cf5e0c3",
   "metadata": {},
   "outputs": [],
   "source": []
  }
 ],
 "metadata": {
  "kernelspec": {
   "display_name": "Python 3 (ipykernel)",
   "language": "python",
   "name": "python3"
  },
  "language_info": {
   "codemirror_mode": {
    "name": "ipython",
    "version": 3
   },
   "file_extension": ".py",
   "mimetype": "text/x-python",
   "name": "python",
   "nbconvert_exporter": "python",
   "pygments_lexer": "ipython3",
   "version": "3.11.5"
  }
 },
 "nbformat": 4,
 "nbformat_minor": 5
}
