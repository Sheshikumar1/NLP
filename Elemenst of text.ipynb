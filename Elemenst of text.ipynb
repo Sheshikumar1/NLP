{
 "cells": [
  {
   "cell_type": "code",
   "execution_count": 3,
   "id": "322359c2",
   "metadata": {},
   "outputs": [
    {
     "name": "stdout",
     "output_type": "stream",
     "text": [
      "Requirement already satisfied: nltk in c:\\users\\shiva kumar\\anaconda3\\lib\\site-packages (3.8.1)\n",
      "Requirement already satisfied: click in c:\\users\\shiva kumar\\anaconda3\\lib\\site-packages (from nltk) (8.0.4)\n",
      "Requirement already satisfied: joblib in c:\\users\\shiva kumar\\anaconda3\\lib\\site-packages (from nltk) (1.2.0)\n",
      "Requirement already satisfied: regex>=2021.8.3 in c:\\users\\shiva kumar\\anaconda3\\lib\\site-packages (from nltk) (2022.7.9)\n",
      "Requirement already satisfied: tqdm in c:\\users\\shiva kumar\\anaconda3\\lib\\site-packages (from nltk) (4.65.0)\n",
      "Requirement already satisfied: colorama in c:\\users\\shiva kumar\\anaconda3\\lib\\site-packages (from click->nltk) (0.4.6)\n"
     ]
    }
   ],
   "source": [
    "!pip install nltk"
   ]
  },
  {
   "cell_type": "code",
   "execution_count": 38,
   "id": "062361e6",
   "metadata": {},
   "outputs": [
    {
     "name": "stderr",
     "output_type": "stream",
     "text": [
      "[nltk_data] Downloading package punkt to C:\\Users\\SHIVA\n",
      "[nltk_data]     KUMAR\\AppData\\Roaming\\nltk_data...\n",
      "[nltk_data]   Package punkt is already up-to-date!\n",
      "[nltk_data] Downloading package averaged_perceptron_tagger to\n",
      "[nltk_data]     C:\\Users\\SHIVA KUMAR\\AppData\\Roaming\\nltk_data...\n",
      "[nltk_data]   Package averaged_perceptron_tagger is already up-to-\n",
      "[nltk_data]       date!\n",
      "[nltk_data] Downloading package wordnet to C:\\Users\\SHIVA\n",
      "[nltk_data]     KUMAR\\AppData\\Roaming\\nltk_data...\n",
      "[nltk_data]   Package wordnet is already up-to-date!\n",
      "[nltk_data] Downloading package stopwords to C:\\Users\\SHIVA\n",
      "[nltk_data]     KUMAR\\AppData\\Roaming\\nltk_data...\n",
      "[nltk_data]   Unzipping corpora\\stopwords.zip.\n"
     ]
    },
    {
     "data": {
      "text/plain": [
       "True"
      ]
     },
     "execution_count": 38,
     "metadata": {},
     "output_type": "execute_result"
    }
   ],
   "source": [
    "import nltk\n",
    "from nltk import *\n",
    "nltk.download('punkt')\n",
    "nltk.download('averaged_perceptron_tagger')\n",
    "nltk.download('wordnet')\n",
    "nltk.download('stopwords')"
   ]
  },
  {
   "cell_type": "code",
   "execution_count": 7,
   "id": "d5f10a0e",
   "metadata": {},
   "outputs": [
    {
     "name": "stdout",
     "output_type": "stream",
     "text": [
      "3.8.1\n"
     ]
    }
   ],
   "source": [
    "print(nltk.__version__)"
   ]
  },
  {
   "cell_type": "code",
   "execution_count": 8,
   "id": "e7a0549a",
   "metadata": {},
   "outputs": [
    {
     "name": "stdout",
     "output_type": "stream",
     "text": [
      "48\n",
      "India\n",
      "republic\n"
     ]
    }
   ],
   "source": [
    "sent = \"India is a republic nation. We are proud Indians\"\n",
    "\n",
    "print(len(sent))   #Prints the number of characters\n",
    "print(sent[0:5])   #Prints 'India'\n",
    "print(sent[11:19]) #Prints 'republic'"
   ]
  },
  {
   "cell_type": "code",
   "execution_count": 12,
   "id": "d8be3eb7",
   "metadata": {},
   "outputs": [
    {
     "name": "stdout",
     "output_type": "stream",
     "text": [
      "['India', 'is', 'a', 'republic', 'nation', '.', 'We', 'are', 'proud', 'Indians']\n"
     ]
    }
   ],
   "source": [
    "print(nltk.word_tokenize(sent)) \n",
    "#Prints list of words ['India', 'is', 'a', 'republic', 'nation', '.', 'We', 'are', 'proud', 'Indians']\n"
   ]
  },
  {
   "cell_type": "markdown",
   "id": "c4d04ae0",
   "metadata": {},
   "source": [
    "#### vocabulary"
   ]
  },
  {
   "cell_type": "code",
   "execution_count": 13,
   "id": "f4fe6962",
   "metadata": {},
   "outputs": [
    {
     "name": "stdout",
     "output_type": "stream",
     "text": [
      "['.', 'India', 'Indians', 'We', 'a', 'are', 'is', 'nation', 'proud', 'republic']\n"
     ]
    }
   ],
   "source": [
    "tokens=nltk.word_tokenize(sent)\n",
    "vocab=sorted(set(tokens))\n",
    "print(vocab)"
   ]
  },
  {
   "cell_type": "markdown",
   "id": "8fb6f6b0",
   "metadata": {},
   "source": [
    "#### punctuation"
   ]
  },
  {
   "cell_type": "code",
   "execution_count": 14,
   "id": "3547d91d",
   "metadata": {},
   "outputs": [
    {
     "name": "stdout",
     "output_type": "stream",
     "text": [
      "['India', 'Indians', 'We', 'a', 'are', 'is', 'nation', 'proud', 'republic']\n"
     ]
    }
   ],
   "source": [
    "from string import punctuation \n",
    "vocab_wo_punct=[]\n",
    "for i in vocab:\n",
    "    if i not in punctuation:\n",
    "        vocab_wo_punct.append(i)\n",
    "print(vocab_wo_punct)"
   ]
  },
  {
   "cell_type": "markdown",
   "id": "cceca8c1",
   "metadata": {},
   "source": [
    "#### parts of speech"
   ]
  },
  {
   "cell_type": "code",
   "execution_count": 18,
   "id": "8e5866bf",
   "metadata": {},
   "outputs": [
    {
     "name": "stdout",
     "output_type": "stream",
     "text": [
      "[('India', 'NNP'), ('Indians', 'NNPS'), ('We', 'PRP'), ('a', 'DT'), ('are', 'VBP'), ('is', 'VBZ'), ('nation', 'NN'), ('proud', 'JJ'), ('republic', 'NN')]\n"
     ]
    }
   ],
   "source": [
    "from nltk import pos_tag\n",
    "pos_list=pos_tag(vocab_wo_punct)\n",
    "print(pos_list)"
   ]
  },
  {
   "cell_type": "markdown",
   "id": "e80fa4c7",
   "metadata": {},
   "source": [
    "#### Root of a word stemming"
   ]
  },
  {
   "cell_type": "code",
   "execution_count": 24,
   "id": "4906bd0d",
   "metadata": {},
   "outputs": [
    {
     "name": "stdout",
     "output_type": "stream",
     "text": [
      "studi\n",
      "['india', 'indian', 'we', 'a', 'are', 'is', 'nation', 'proud', 'republ']\n"
     ]
    }
   ],
   "source": [
    "from nltk.stem.snowball import SnowballStemmer\n",
    "stemObj = SnowballStemmer(\"english\")\n",
    "print(stemObj.stem(\"Studying\"))  # Prints 'studi'\n",
    "stemmed_vocab = []\n",
    "for i in vocab_wo_punct:\n",
    "    stemmed_vocab.append(stemObj.stem(i))\n",
    "print(stemmed_vocab)  # Prints ['india', 'indian', 'we', 'a', 'are', 'countri', 'is', 'proud', 'republ']\n",
    "\n"
   ]
  },
  {
   "cell_type": "markdown",
   "id": "29c5d75c",
   "metadata": {},
   "source": [
    "#### lemmatization"
   ]
  },
  {
   "cell_type": "code",
   "execution_count": 29,
   "id": "36a616a2",
   "metadata": {},
   "outputs": [
    {
     "data": {
      "text/plain": [
       "'go'"
      ]
     },
     "execution_count": 29,
     "metadata": {},
     "output_type": "execute_result"
    }
   ],
   "source": [
    "from nltk.stem.wordnet import WordNetLemmatizer\n",
    "lemmaObj = WordNetLemmatizer()\n",
    "lemmaObj.lemmatize(\"went\",pos='v')\n"
   ]
  },
  {
   "cell_type": "markdown",
   "id": "94b3c3c6",
   "metadata": {},
   "source": [
    "#### stop words"
   ]
  },
  {
   "cell_type": "code",
   "execution_count": 39,
   "id": "2492a3e4",
   "metadata": {},
   "outputs": [
    {
     "name": "stdout",
     "output_type": "stream",
     "text": [
      "['India', 'Indians', 'We', 'nation', 'proud', 'republic']\n"
     ]
    }
   ],
   "source": [
    "from nltk.corpus import stopwords\n",
    "wo_stop_words = []\n",
    "stop_words_set = set(stopwords.words(\"english\"))\n",
    "for i in vocab_wo_punct:\n",
    "    if i not in stop_words_set:\n",
    "        wo_stop_words.append(i)\n",
    "print(wo_stop_words)  # Prints ['India', 'Indians', 'We', 'country', 'proud', 'republic']\n",
    "\n"
   ]
  },
  {
   "cell_type": "code",
   "execution_count": null,
   "id": "6e300fec",
   "metadata": {},
   "outputs": [],
   "source": []
  }
 ],
 "metadata": {
  "kernelspec": {
   "display_name": "Python 3 (ipykernel)",
   "language": "python",
   "name": "python3"
  },
  "language_info": {
   "codemirror_mode": {
    "name": "ipython",
    "version": 3
   },
   "file_extension": ".py",
   "mimetype": "text/x-python",
   "name": "python",
   "nbconvert_exporter": "python",
   "pygments_lexer": "ipython3",
   "version": "3.11.5"
  }
 },
 "nbformat": 4,
 "nbformat_minor": 5
}
