{
 "cells": [
  {
   "cell_type": "markdown",
   "id": "1aa1cf95",
   "metadata": {},
   "source": [
    "## operation on text"
   ]
  },
  {
   "cell_type": "code",
   "execution_count": 49,
   "id": "2b56bad6",
   "metadata": {},
   "outputs": [],
   "source": [
    "import nltk\n",
    "import string\n",
    "from nltk import word_tokenize\n",
    "from nltk import wordpunct_tokenize\n",
    "from nltk.corpus import stopwords\n",
    "from string import punctuation\n",
    "from nltk.stem.snowball import SnowballStemmer\n",
    "from nltk.corpus import wordnet\n",
    "from nltk import ngrams\n",
    "from nltk.stem.wordnet import WordNetLemmatizer\n",
    "from nltk import pos_tag\n"
   ]
  },
  {
   "cell_type": "code",
   "execution_count": 30,
   "id": "69fb89e5",
   "metadata": {
    "scrolled": true
   },
   "outputs": [
    {
     "name": "stdout",
     "output_type": "stream",
     "text": [
      "The history of natural language processing generally started in the 1950s, although work can be found from earlier periods. In 1950, Alan Turing published an article titled \"Intelligence\" which proposed what is now called the Turing test as a criterion of intelligence.\n",
      "\n",
      "The Georgetown experiment in 1954 involved fully automatic translation of more than sixty Russian sentences into English. The authors claimed that within three or five years, machine translation would be a solved problem.[2] However, real progress was much slower, and after the ALPAC report in 1966, which found that ten-year-long research had failed to fulfill the expectations, funding for machine translation was dramatically reduced. Little further research in machine translation was conducted until the late 1980s, when the first statistical machine translation systems were developed.\n",
      "\n",
      "Some notably successful natural language processing systems developed in the 1960s were SHRDLU, a natural language system working in restricted \"blocks worlds\" with restricted vocabularies, and ELIZA, a simulation of a Rogerian psychotherapist, written by Joseph Weizenbaum between 1964 and 1966. Using almost no information about human thought or emotion, ELIZA sometimes provided a startlingly human-like interaction. When the \"patient\" exceeded the very small knowledge base, ELIZA might provide a generic response, for example, responding to \"My head hurts\" with \"Why do you say your head hurts?\".\n",
      "\n",
      "During the 1970s, many programmers began to write \"conceptual ontologies\", which structured real-world information into computer-understandable data. Examples are MARGIE (Schank, 1975), SAM (Cullingford, 1978), PAM (Wilensky, 1978), TaleSpin (Meehan, 1976), QUALM (Lehnert, 1977), Politics (Carbonell, 1979), and Plot Units (Lehnert 1981). During this time, many chatterbots were written including PARRY, Racter, and Jabberwacky.\n",
      "\n",
      "Up to the 1980s, most natural language processing systems were based on complex sets of hand-written rules. Starting in the late 1980s, however, there was a revolution in natural language processing with the introduction of machine learning algorithms for language processing. This was due to both the steady increase in computational power (see Moore's law) and the gradual lessening of the dominance of Chomskyan theories of linguistics (e.g. transformational grammar), whose theoretical underpinnings discouraged the sort of corpus linguistics that underlies the machine-learning approach to language processing.[3] Some of the earliest-used machine learning algorithms, such as decision trees, produced systems of hard if-then rules similar to existing hand-written rules. However, part-of-speech tagging introduced the use of hidden Markov models to natural language processing, and increasingly, research has focused on statistical models, which make soft, probabilistic decisions based on attaching real-valued weights to the features making up the input data. The cache language models upon which many speech recognition systems now rely are examples of such statistical models. Such models are generally more robust when given unfamiliar input, especially input that contains errors (as is very common for real-world data), and produce more reliable results when integrated into a larger system comprising multiple subtasks.\n"
     ]
    }
   ],
   "source": [
    "#read the file \n",
    "#Note: use the correct path of the file depending on your environment\n",
    "file = open(\"nlp_wikipedia_sample.txt\",'r') \n",
    "text = ''\n",
    "for i in file.readlines():\n",
    "    text += i\n",
    "print(text)\n"
   ]
  },
  {
   "cell_type": "markdown",
   "id": "61014882",
   "metadata": {},
   "source": [
    "### Trimming the text of unwanted spaces"
   ]
  },
  {
   "cell_type": "code",
   "execution_count": 31,
   "id": "5f27e4e3",
   "metadata": {},
   "outputs": [
    {
     "name": "stdout",
     "output_type": "stream",
     "text": [
      "The history of natural language processing generally started in the 1950s, although work can be found from earlier periods. In 1950, Alan Turing published an article titled \"Intelligence\" which proposed what is now called the Turing test as a criterion of intelligence.\n",
      "\n",
      "The Georgetown experiment in 1954 involved fully automatic translation of more than sixty Russian sentences into English. The authors claimed that within three or five years, machine translation would be a solved problem.[2] However, real progress was much slower, and after the ALPAC report in 1966, which found that ten-year-long research had failed to fulfill the expectations, funding for machine translation was dramatically reduced. Little further research in machine translation was conducted until the late 1980s, when the first statistical machine translation systems were developed.\n",
      "\n",
      "Some notably successful natural language processing systems developed in the 1960s were SHRDLU, a natural language system working in restricted \"blocks worlds\" with restricted vocabularies, and ELIZA, a simulation of a Rogerian psychotherapist, written by Joseph Weizenbaum between 1964 and 1966. Using almost no information about human thought or emotion, ELIZA sometimes provided a startlingly human-like interaction. When the \"patient\" exceeded the very small knowledge base, ELIZA might provide a generic response, for example, responding to \"My head hurts\" with \"Why do you say your head hurts?\".\n",
      "\n",
      "During the 1970s, many programmers began to write \"conceptual ontologies\", which structured real-world information into computer-understandable data. Examples are MARGIE (Schank, 1975), SAM (Cullingford, 1978), PAM (Wilensky, 1978), TaleSpin (Meehan, 1976), QUALM (Lehnert, 1977), Politics (Carbonell, 1979), and Plot Units (Lehnert 1981). During this time, many chatterbots were written including PARRY, Racter, and Jabberwacky.\n",
      "\n",
      "Up to the 1980s, most natural language processing systems were based on complex sets of hand-written rules. Starting in the late 1980s, however, there was a revolution in natural language processing with the introduction of machine learning algorithms for language processing. This was due to both the steady increase in computational power (see Moore's law) and the gradual lessening of the dominance of Chomskyan theories of linguistics (e.g. transformational grammar), whose theoretical underpinnings discouraged the sort of corpus linguistics that underlies the machine-learning approach to language processing.[3] Some of the earliest-used machine learning algorithms, such as decision trees, produced systems of hard if-then rules similar to existing hand-written rules. However, part-of-speech tagging introduced the use of hidden Markov models to natural language processing, and increasingly, research has focused on statistical models, which make soft, probabilistic decisions based on attaching real-valued weights to the features making up the input data. The cache language models upon which many speech recognition systems now rely are examples of such statistical models. Such models are generally more robust when given unfamiliar input, especially input that contains errors (as is very common for real-world data), and produce more reliable results when integrated into a larger system comprising multiple subtasks.\n"
     ]
    }
   ],
   "source": [
    "#remove trailing spaces\n",
    "trimmed_text = text.strip()\n",
    "print(trimmed_text)\n"
   ]
  },
  {
   "cell_type": "markdown",
   "id": "84a23a18",
   "metadata": {},
   "source": [
    "### Convert the text into either lower or uppercase"
   ]
  },
  {
   "cell_type": "code",
   "execution_count": 32,
   "id": "62918e03",
   "metadata": {},
   "outputs": [
    {
     "name": "stdout",
     "output_type": "stream",
     "text": [
      "the history of natural language processing generally started in the 1950s, although work can be found from earlier periods. in 1950, alan turing published an article titled \"intelligence\" which proposed what is now called the turing test as a criterion of intelligence.\n",
      "\n",
      "the georgetown experiment in 1954 involved fully automatic translation of more than sixty russian sentences into english. the authors claimed that within three or five years, machine translation would be a solved problem.[2] however, real progress was much slower, and after the alpac report in 1966, which found that ten-year-long research had failed to fulfill the expectations, funding for machine translation was dramatically reduced. little further research in machine translation was conducted until the late 1980s, when the first statistical machine translation systems were developed.\n",
      "\n",
      "some notably successful natural language processing systems developed in the 1960s were shrdlu, a natural language system working in restricted \"blocks worlds\" with restricted vocabularies, and eliza, a simulation of a rogerian psychotherapist, written by joseph weizenbaum between 1964 and 1966. using almost no information about human thought or emotion, eliza sometimes provided a startlingly human-like interaction. when the \"patient\" exceeded the very small knowledge base, eliza might provide a generic response, for example, responding to \"my head hurts\" with \"why do you say your head hurts?\".\n",
      "\n",
      "during the 1970s, many programmers began to write \"conceptual ontologies\", which structured real-world information into computer-understandable data. examples are margie (schank, 1975), sam (cullingford, 1978), pam (wilensky, 1978), talespin (meehan, 1976), qualm (lehnert, 1977), politics (carbonell, 1979), and plot units (lehnert 1981). during this time, many chatterbots were written including parry, racter, and jabberwacky.\n",
      "\n",
      "up to the 1980s, most natural language processing systems were based on complex sets of hand-written rules. starting in the late 1980s, however, there was a revolution in natural language processing with the introduction of machine learning algorithms for language processing. this was due to both the steady increase in computational power (see moore's law) and the gradual lessening of the dominance of chomskyan theories of linguistics (e.g. transformational grammar), whose theoretical underpinnings discouraged the sort of corpus linguistics that underlies the machine-learning approach to language processing.[3] some of the earliest-used machine learning algorithms, such as decision trees, produced systems of hard if-then rules similar to existing hand-written rules. however, part-of-speech tagging introduced the use of hidden markov models to natural language processing, and increasingly, research has focused on statistical models, which make soft, probabilistic decisions based on attaching real-valued weights to the features making up the input data. the cache language models upon which many speech recognition systems now rely are examples of such statistical models. such models are generally more robust when given unfamiliar input, especially input that contains errors (as is very common for real-world data), and produce more reliable results when integrated into a larger system comprising multiple subtasks.\n"
     ]
    }
   ],
   "source": [
    "converted_text = trimmed_text.lower()\n",
    "print(converted_text)\n"
   ]
  },
  {
   "cell_type": "markdown",
   "id": "99d0c49f",
   "metadata": {},
   "source": [
    "### Tokenize the text and determine its vocabulary"
   ]
  },
  {
   "cell_type": "code",
   "execution_count": 33,
   "id": "fffe34a8",
   "metadata": {},
   "outputs": [
    {
     "name": "stdout",
     "output_type": "stream",
     "text": [
      "['the', 'history', 'of', 'natural', 'language', 'processing', 'generally', 'started', 'in', 'the', '1950s', ',', 'although', 'work', 'can', 'be', 'found', 'from', 'earlier', 'periods', '.', 'in', '1950', ',', 'alan', 'turing', 'published', 'an', 'article', 'titled', '``', 'intelligence', \"''\", 'which', 'proposed', 'what', 'is', 'now', 'called', 'the', 'turing', 'test', 'as', 'a', 'criterion', 'of', 'intelligence', '.', 'the', 'georgetown', 'experiment', 'in', '1954', 'involved', 'fully', 'automatic', 'translation', 'of', 'more', 'than', 'sixty', 'russian', 'sentences', 'into', 'english', '.', 'the', 'authors', 'claimed', 'that', 'within', 'three', 'or', 'five', 'years', ',', 'machine', 'translation', 'would', 'be', 'a', 'solved', 'problem', '.', '[', '2', ']', 'however', ',', 'real', 'progress', 'was', 'much', 'slower', ',', 'and', 'after', 'the', 'alpac', 'report', 'in', '1966', ',', 'which', 'found', 'that', 'ten-year-long', 'research', 'had', 'failed', 'to', 'fulfill', 'the', 'expectations', ',', 'funding', 'for', 'machine', 'translation', 'was', 'dramatically', 'reduced', '.', 'little', 'further', 'research', 'in', 'machine', 'translation', 'was', 'conducted', 'until', 'the', 'late', '1980s', ',', 'when', 'the', 'first', 'statistical', 'machine', 'translation', 'systems', 'were', 'developed', '.', 'some', 'notably', 'successful', 'natural', 'language', 'processing', 'systems', 'developed', 'in', 'the', '1960s', 'were', 'shrdlu', ',', 'a', 'natural', 'language', 'system', 'working', 'in', 'restricted', '``', 'blocks', 'worlds', \"''\", 'with', 'restricted', 'vocabularies', ',', 'and', 'eliza', ',', 'a', 'simulation', 'of', 'a', 'rogerian', 'psychotherapist', ',', 'written', 'by', 'joseph', 'weizenbaum', 'between', '1964', 'and', '1966.', 'using', 'almost', 'no', 'information', 'about', 'human', 'thought', 'or', 'emotion', ',', 'eliza', 'sometimes', 'provided', 'a', 'startlingly', 'human-like', 'interaction', '.', 'when', 'the', '``', 'patient', \"''\", 'exceeded', 'the', 'very', 'small', 'knowledge', 'base', ',', 'eliza', 'might', 'provide', 'a', 'generic', 'response', ',', 'for', 'example', ',', 'responding', 'to', '``', 'my', 'head', 'hurts', \"''\", 'with', '``', 'why', 'do', 'you', 'say', 'your', 'head', 'hurts', '?', \"''\", '.', 'during', 'the', '1970s', ',', 'many', 'programmers', 'began', 'to', 'write', '``', 'conceptual', 'ontologies', \"''\", ',', 'which', 'structured', 'real-world', 'information', 'into', 'computer-understandable', 'data', '.', 'examples', 'are', 'margie', '(', 'schank', ',', '1975', ')', ',', 'sam', '(', 'cullingford', ',', '1978', ')', ',', 'pam', '(', 'wilensky', ',', '1978', ')', ',', 'talespin', '(', 'meehan', ',', '1976', ')', ',', 'qualm', '(', 'lehnert', ',', '1977', ')', ',', 'politics', '(', 'carbonell', ',', '1979', ')', ',', 'and', 'plot', 'units', '(', 'lehnert', '1981', ')', '.', 'during', 'this', 'time', ',', 'many', 'chatterbots', 'were', 'written', 'including', 'parry', ',', 'racter', ',', 'and', 'jabberwacky', '.', 'up', 'to', 'the', '1980s', ',', 'most', 'natural', 'language', 'processing', 'systems', 'were', 'based', 'on', 'complex', 'sets', 'of', 'hand-written', 'rules', '.', 'starting', 'in', 'the', 'late', '1980s', ',', 'however', ',', 'there', 'was', 'a', 'revolution', 'in', 'natural', 'language', 'processing', 'with', 'the', 'introduction', 'of', 'machine', 'learning', 'algorithms', 'for', 'language', 'processing', '.', 'this', 'was', 'due', 'to', 'both', 'the', 'steady', 'increase', 'in', 'computational', 'power', '(', 'see', 'moore', \"'s\", 'law', ')', 'and', 'the', 'gradual', 'lessening', 'of', 'the', 'dominance', 'of', 'chomskyan', 'theories', 'of', 'linguistics', '(', 'e.g', '.', 'transformational', 'grammar', ')', ',', 'whose', 'theoretical', 'underpinnings', 'discouraged', 'the', 'sort', 'of', 'corpus', 'linguistics', 'that', 'underlies', 'the', 'machine-learning', 'approach', 'to', 'language', 'processing', '.', '[', '3', ']', 'some', 'of', 'the', 'earliest-used', 'machine', 'learning', 'algorithms', ',', 'such', 'as', 'decision', 'trees', ',', 'produced', 'systems', 'of', 'hard', 'if-then', 'rules', 'similar', 'to', 'existing', 'hand-written', 'rules', '.', 'however', ',', 'part-of-speech', 'tagging', 'introduced', 'the', 'use', 'of', 'hidden', 'markov', 'models', 'to', 'natural', 'language', 'processing', ',', 'and', 'increasingly', ',', 'research', 'has', 'focused', 'on', 'statistical', 'models', ',', 'which', 'make', 'soft', ',', 'probabilistic', 'decisions', 'based', 'on', 'attaching', 'real-valued', 'weights', 'to', 'the', 'features', 'making', 'up', 'the', 'input', 'data', '.', 'the', 'cache', 'language', 'models', 'upon', 'which', 'many', 'speech', 'recognition', 'systems', 'now', 'rely', 'are', 'examples', 'of', 'such', 'statistical', 'models', '.', 'such', 'models', 'are', 'generally', 'more', 'robust', 'when', 'given', 'unfamiliar', 'input', ',', 'especially', 'input', 'that', 'contains', 'errors', '(', 'as', 'is', 'very', 'common', 'for', 'real-world', 'data', ')', ',', 'and', 'produce', 'more', 'reliable', 'results', 'when', 'integrated', 'into', 'a', 'larger', 'system', 'comprising', 'multiple', 'subtasks', '.']\n"
     ]
    }
   ],
   "source": [
    "#Tokenization using word tokenizer\n",
    "tokenized_list=word_tokenize(converted_text)\n",
    "print(tokenized_list)"
   ]
  },
  {
   "cell_type": "code",
   "execution_count": 34,
   "id": "3c0bb41f",
   "metadata": {},
   "outputs": [
    {
     "name": "stdout",
     "output_type": "stream",
     "text": [
      "['the', 'history', 'of', 'natural', 'language', 'processing', 'generally', 'started', 'in', 'the', '1950s', ',', 'although', 'work', 'can', 'be', 'found', 'from', 'earlier', 'periods', '.', 'in', '1950', ',', 'alan', 'turing', 'published', 'an', 'article', 'titled', '\"', 'intelligence', '\"', 'which', 'proposed', 'what', 'is', 'now', 'called', 'the', 'turing', 'test', 'as', 'a', 'criterion', 'of', 'intelligence', '.', 'the', 'georgetown', 'experiment', 'in', '1954', 'involved', 'fully', 'automatic', 'translation', 'of', 'more', 'than', 'sixty', 'russian', 'sentences', 'into', 'english', '.', 'the', 'authors', 'claimed', 'that', 'within', 'three', 'or', 'five', 'years', ',', 'machine', 'translation', 'would', 'be', 'a', 'solved', 'problem', '.[', '2', ']', 'however', ',', 'real', 'progress', 'was', 'much', 'slower', ',', 'and', 'after', 'the', 'alpac', 'report', 'in', '1966', ',', 'which', 'found', 'that', 'ten', '-', 'year', '-', 'long', 'research', 'had', 'failed', 'to', 'fulfill', 'the', 'expectations', ',', 'funding', 'for', 'machine', 'translation', 'was', 'dramatically', 'reduced', '.', 'little', 'further', 'research', 'in', 'machine', 'translation', 'was', 'conducted', 'until', 'the', 'late', '1980s', ',', 'when', 'the', 'first', 'statistical', 'machine', 'translation', 'systems', 'were', 'developed', '.', 'some', 'notably', 'successful', 'natural', 'language', 'processing', 'systems', 'developed', 'in', 'the', '1960s', 'were', 'shrdlu', ',', 'a', 'natural', 'language', 'system', 'working', 'in', 'restricted', '\"', 'blocks', 'worlds', '\"', 'with', 'restricted', 'vocabularies', ',', 'and', 'eliza', ',', 'a', 'simulation', 'of', 'a', 'rogerian', 'psychotherapist', ',', 'written', 'by', 'joseph', 'weizenbaum', 'between', '1964', 'and', '1966', '.', 'using', 'almost', 'no', 'information', 'about', 'human', 'thought', 'or', 'emotion', ',', 'eliza', 'sometimes', 'provided', 'a', 'startlingly', 'human', '-', 'like', 'interaction', '.', 'when', 'the', '\"', 'patient', '\"', 'exceeded', 'the', 'very', 'small', 'knowledge', 'base', ',', 'eliza', 'might', 'provide', 'a', 'generic', 'response', ',', 'for', 'example', ',', 'responding', 'to', '\"', 'my', 'head', 'hurts', '\"', 'with', '\"', 'why', 'do', 'you', 'say', 'your', 'head', 'hurts', '?\".', 'during', 'the', '1970s', ',', 'many', 'programmers', 'began', 'to', 'write', '\"', 'conceptual', 'ontologies', '\",', 'which', 'structured', 'real', '-', 'world', 'information', 'into', 'computer', '-', 'understandable', 'data', '.', 'examples', 'are', 'margie', '(', 'schank', ',', '1975', '),', 'sam', '(', 'cullingford', ',', '1978', '),', 'pam', '(', 'wilensky', ',', '1978', '),', 'talespin', '(', 'meehan', ',', '1976', '),', 'qualm', '(', 'lehnert', ',', '1977', '),', 'politics', '(', 'carbonell', ',', '1979', '),', 'and', 'plot', 'units', '(', 'lehnert', '1981', ').', 'during', 'this', 'time', ',', 'many', 'chatterbots', 'were', 'written', 'including', 'parry', ',', 'racter', ',', 'and', 'jabberwacky', '.', 'up', 'to', 'the', '1980s', ',', 'most', 'natural', 'language', 'processing', 'systems', 'were', 'based', 'on', 'complex', 'sets', 'of', 'hand', '-', 'written', 'rules', '.', 'starting', 'in', 'the', 'late', '1980s', ',', 'however', ',', 'there', 'was', 'a', 'revolution', 'in', 'natural', 'language', 'processing', 'with', 'the', 'introduction', 'of', 'machine', 'learning', 'algorithms', 'for', 'language', 'processing', '.', 'this', 'was', 'due', 'to', 'both', 'the', 'steady', 'increase', 'in', 'computational', 'power', '(', 'see', 'moore', \"'\", 's', 'law', ')', 'and', 'the', 'gradual', 'lessening', 'of', 'the', 'dominance', 'of', 'chomskyan', 'theories', 'of', 'linguistics', '(', 'e', '.', 'g', '.', 'transformational', 'grammar', '),', 'whose', 'theoretical', 'underpinnings', 'discouraged', 'the', 'sort', 'of', 'corpus', 'linguistics', 'that', 'underlies', 'the', 'machine', '-', 'learning', 'approach', 'to', 'language', 'processing', '.[', '3', ']', 'some', 'of', 'the', 'earliest', '-', 'used', 'machine', 'learning', 'algorithms', ',', 'such', 'as', 'decision', 'trees', ',', 'produced', 'systems', 'of', 'hard', 'if', '-', 'then', 'rules', 'similar', 'to', 'existing', 'hand', '-', 'written', 'rules', '.', 'however', ',', 'part', '-', 'of', '-', 'speech', 'tagging', 'introduced', 'the', 'use', 'of', 'hidden', 'markov', 'models', 'to', 'natural', 'language', 'processing', ',', 'and', 'increasingly', ',', 'research', 'has', 'focused', 'on', 'statistical', 'models', ',', 'which', 'make', 'soft', ',', 'probabilistic', 'decisions', 'based', 'on', 'attaching', 'real', '-', 'valued', 'weights', 'to', 'the', 'features', 'making', 'up', 'the', 'input', 'data', '.', 'the', 'cache', 'language', 'models', 'upon', 'which', 'many', 'speech', 'recognition', 'systems', 'now', 'rely', 'are', 'examples', 'of', 'such', 'statistical', 'models', '.', 'such', 'models', 'are', 'generally', 'more', 'robust', 'when', 'given', 'unfamiliar', 'input', ',', 'especially', 'input', 'that', 'contains', 'errors', '(', 'as', 'is', 'very', 'common', 'for', 'real', '-', 'world', 'data', '),', 'and', 'produce', 'more', 'reliable', 'results', 'when', 'integrated', 'into', 'a', 'larger', 'system', 'comprising', 'multiple', 'subtasks', '.']\n"
     ]
    }
   ],
   "source": [
    "#Tokenization using word punct tokenizer\n",
    "punct_tokenized_list = wordpunct_tokenize(converted_text)\n",
    "print(punct_tokenized_list)"
   ]
  },
  {
   "cell_type": "code",
   "execution_count": 35,
   "id": "372ef494",
   "metadata": {},
   "outputs": [
    {
     "name": "stdout",
     "output_type": "stream",
     "text": [
      "{'hurts', 'proposed', 'dramatically', 'structured', 'system', 'comprising', '1960s', '1980s', '1979', 'power', 'markov', 'margie', '1976', 'machine', 'history', 'transformational', 'theoretical', 'although', 'e.g', 'starting', 'underlies', 'most', 'interaction', 'when', 'both', 'would', 'working', 'russian', 'or', 'however', 'conducted', 'due', 'make', 'now', 'increase', 'wilensky', 'carbonell', 'weizenbaum', 'base', '1981', 'steady', '1975', 'head', \"'s\", 'from', 'periods', 'problem', 'research', 'earlier', 'failed', 'computational', 'use', 'rely', 'conceptual', 'some', 'algorithms', 'pam', 'shrdlu', 'robust', 'write', 'increasingly', ')', 'sets', 'your', 'language', 'meehan', 'revolution', 'politics', 'there', '1954', 'restricted', 'corpus', '1950s', 'eliza', 'chatterbots', 'produced', 'examples', 'has', 'results', 'moore', 'given', 'late', 'found', 'almost', 'what', 'first', 'after', 'unfamiliar', ']', 'using', 'based', 'systems', 'to', 'ontologies', 'fulfill', 'slower', '1977', 'racter', 'real-valued', 'about', 'features', 'until', 'natural', 'whose', 'further', 'lessening', 'can', 'upon', 'was', '1978', 'into', 'jabberwacky', 'data', 'rules', 'reliable', '1966', 'plot', 'vocabularies', 'information', 'talespin', 'input', 'had', 'generic', ',', 'my', 'rogerian', 'more', 'processing', 'expectations', 'began', 'sam', 'between', 'fully', 'involved', 'were', 'making', 'sort', 'trees', 'and', 'errors', 'hidden', 'cullingford', 'underpinnings', 'be', 'linguistics', 'psychotherapist', 'english', 'computer-understandable', 'five', 'might', 'lehnert', 'for', 'hand-written', 'focused', 'decisions', 'funding', 'parry', 'such', 'speech', 'machine-learning', 'thought', 'including', 'on', 'introduction', 'time', 'discouraged', 'approach', 'complex', 'gradual', 'larger', 'recognition', 'cache', 'hard', '2', 'emotion', 'published', 'see', 'knowledge', 'little', 'is', 'within', 'developed', 'notably', 'blocks', 'probabilistic', 'of', 'three', 'sometimes', 'very', 'in', 'which', 'years', 'successful', 'patient', 'law', 'units', 'responding', '1966.', '?', 'progress', 'many', 'article', 'part-of-speech', 'response', 'produce', 'alan', 'do', 'if-then', 'schank', 'up', 'as', 'introduced', 'during', '[', 'real-world', \"''\", 'learning', 'earliest-used', 'qualm', 'statistical', 'weights', 'authors', 'written', 'the', 'grammar', 'experiment', 'subtasks', 'than', 'soft', 'translation', 'work', 'solved', 'turing', 'are', 'no', 'called', 'claimed', 'integrated', 'with', 'started', '(', 'an', 'intelligence', 'titled', 'that', 'exceeded', 'provided', 'much', 'why', 'similar', 'human', 'especially', 'small', 'provide', 'ten-year-long', 'startlingly', 'human-like', '1970s', 'automatic', 'by', 'worlds', 'joseph', 'sixty', 'say', '``', 'generally', 'reduced', '.', 'a', 'report', 'dominance', 'common', 'this', 'existing', 'criterion', 'you', 'simulation', 'models', 'sentences', 'theories', 'attaching', 'example', 'contains', 'tagging', 'multiple', 'programmers', '1964', 'alpac', 'real', 'chomskyan', 'test', '3', 'decision', 'georgetown', '1950'}\n"
     ]
    }
   ],
   "source": [
    "#get vocabulary\n",
    "vocab_set = set(tokenized_list)\n",
    "print(vocab_set)"
   ]
  },
  {
   "cell_type": "markdown",
   "id": "12a1fb33",
   "metadata": {},
   "source": [
    "### Remove stop words from the text"
   ]
  },
  {
   "cell_type": "code",
   "execution_count": 36,
   "id": "1443063a",
   "metadata": {},
   "outputs": [
    {
     "name": "stdout",
     "output_type": "stream",
     "text": [
      "{'hurts', 'proposed', 'dramatically', 'structured', 'system', 'comprising', '1960s', '1980s', '1979', 'power', 'markov', 'margie', '1976', 'theoretical', 'machine', 'history', 'transformational', 'e.g', 'although', 'starting', 'underlies', 'interaction', 'would', 'working', 'russian', 'however', 'conducted', 'due', 'make', 'increase', 'wilensky', 'carbonell', 'weizenbaum', 'base', '1981', 'steady', '1975', 'head', \"'s\", 'problem', 'periods', 'research', 'failed', 'earlier', 'computational', 'use', 'rely', 'conceptual', 'algorithms', 'pam', 'shrdlu', 'robust', 'write', 'increasingly', ')', 'sets', 'language', 'meehan', 'revolution', 'politics', '1954', 'restricted', 'corpus', '1950s', 'eliza', 'chatterbots', 'produced', 'examples', 'results', 'moore', 'given', 'late', 'found', 'almost', 'first', 'unfamiliar', ']', 'using', 'based', 'systems', 'ontologies', 'fulfill', 'slower', '1977', 'racter', 'real-valued', 'features', 'natural', 'whose', 'lessening', 'upon', '1978', 'jabberwacky', 'data', 'rules', 'reliable', '1966', 'plot', 'vocabularies', 'information', 'talespin', 'input', 'generic', ',', 'rogerian', 'expectations', 'processing', 'began', 'sam', 'fully', 'involved', 'making', 'sort', 'trees', 'errors', 'hidden', 'cullingford', 'underpinnings', 'linguistics', 'psychotherapist', 'english', 'computer-understandable', 'five', 'might', 'lehnert', 'hand-written', 'focused', 'decisions', 'funding', 'parry', 'speech', 'machine-learning', 'thought', 'including', 'discouraged', 'introduction', 'time', 'approach', 'larger', 'complex', 'gradual', 'cache', 'hard', '2', 'emotion', 'published', 'see', 'knowledge', 'test', 'little', 'within', 'developed', 'notably', 'blocks', 'three', 'sometimes', 'law', 'years', 'patient', 'successful', 'units', 'responding', '1966.', '?', 'progress', 'many', 'article', 'part-of-speech', 'response', 'produce', 'alan', 'if-then', 'schank', 'introduced', '[', 'real-world', \"''\", 'learning', 'earliest-used', 'qualm', 'statistical', 'weights', 'authors', 'written', 'experiment', 'subtasks', 'soft', 'translation', 'work', 'solved', 'turing', 'called', 'claimed', 'integrated', 'started', '(', 'intelligence', 'titled', 'exceeded', 'provided', 'much', 'similar', 'especially', 'human', 'small', 'provide', 'ten-year-long', 'startlingly', 'human-like', '1970s', 'grammar', 'automatic', 'worlds', 'joseph', 'sixty', 'say', '``', 'generally', 'reduced', '.', 'report', 'dominance', 'common', 'existing', 'criterion', 'attaching', 'simulation', 'models', 'sentences', 'theories', 'contains', 'example', 'tagging', 'multiple', 'programmers', '1964', 'alpac', 'real', 'chomskyan', 'recognition', '3', 'probabilistic', 'decision', 'georgetown', '1950'}\n"
     ]
    }
   ],
   "source": [
    "#remove stop words\n",
    "set_wo_stopwords = vocab_set - set(stopwords.words(\"english\"))\n",
    "print(set_wo_stopwords)\n"
   ]
  },
  {
   "cell_type": "markdown",
   "id": "37deea41",
   "metadata": {},
   "source": [
    "### Remove punctuation"
   ]
  },
  {
   "cell_type": "code",
   "execution_count": 37,
   "id": "a10e95a0",
   "metadata": {},
   "outputs": [
    {
     "name": "stdout",
     "output_type": "stream",
     "text": [
      "{'hurts', 'proposed', 'dramatically', 'structured', 'system', 'comprising', '1960s', '1980s', '1979', 'power', 'markov', 'margie', '1976', 'theoretical', 'machine', 'history', 'transformational', 'e.g', 'although', 'starting', 'underlies', 'interaction', 'would', 'working', 'russian', 'however', 'conducted', 'due', 'make', 'increase', 'wilensky', 'carbonell', 'weizenbaum', 'base', '1981', 'steady', '1975', 'head', \"'s\", 'problem', 'periods', 'research', 'failed', 'earlier', 'computational', 'use', 'rely', 'conceptual', 'algorithms', 'pam', 'shrdlu', 'robust', 'write', 'increasingly', 'sets', 'language', 'meehan', 'revolution', 'politics', '1954', 'restricted', 'corpus', '1950s', 'eliza', 'chatterbots', 'produced', 'examples', 'results', 'moore', 'given', 'late', 'found', 'almost', 'first', 'unfamiliar', 'using', 'based', 'systems', 'ontologies', 'fulfill', 'slower', '1977', 'racter', 'real-valued', 'features', 'natural', 'whose', 'lessening', 'upon', '1978', 'jabberwacky', 'data', 'rules', 'reliable', '1966', 'plot', 'vocabularies', 'information', 'talespin', 'input', 'generic', 'rogerian', 'expectations', 'processing', 'began', 'sam', 'fully', 'involved', 'making', 'sort', 'trees', 'errors', 'hidden', 'cullingford', 'underpinnings', 'linguistics', 'psychotherapist', 'english', 'computer-understandable', 'five', 'might', 'lehnert', 'hand-written', 'focused', 'decisions', 'funding', 'parry', 'speech', 'machine-learning', 'thought', 'including', 'discouraged', 'introduction', 'time', 'approach', 'larger', 'complex', 'gradual', 'cache', 'hard', '2', 'emotion', 'published', 'see', 'knowledge', 'test', 'little', 'within', 'developed', 'notably', 'blocks', 'three', 'sometimes', 'law', 'years', 'patient', 'successful', 'units', 'responding', '1966.', 'progress', 'many', 'article', 'part-of-speech', 'response', 'produce', 'alan', 'if-then', 'schank', 'introduced', 'real-world', \"''\", 'learning', 'earliest-used', 'qualm', 'statistical', 'weights', 'authors', 'written', 'experiment', 'subtasks', 'soft', 'translation', 'work', 'solved', 'turing', 'called', 'claimed', 'integrated', 'started', 'intelligence', 'titled', 'exceeded', 'provided', 'much', 'similar', 'especially', 'human', 'small', 'provide', 'ten-year-long', 'startlingly', 'human-like', '1970s', 'grammar', 'automatic', 'worlds', 'joseph', 'sixty', 'say', '``', 'generally', 'reduced', 'report', 'dominance', 'common', 'existing', 'criterion', 'attaching', 'simulation', 'models', 'sentences', 'theories', 'contains', 'example', 'tagging', 'multiple', 'programmers', '1964', 'alpac', 'real', 'chomskyan', 'recognition', '3', 'probabilistic', 'decision', 'georgetown', '1950'}\n"
     ]
    }
   ],
   "source": [
    "#remove punctuation\n",
    "set_wo_punctuation = set_wo_stopwords - set(punctuation)\n",
    "print(set_wo_punctuation)\n"
   ]
  },
  {
   "cell_type": "markdown",
   "id": "fd8aa36a",
   "metadata": {},
   "source": [
    "#### Normalize the text using stemming and/or lemmatization"
   ]
  },
  {
   "cell_type": "code",
   "execution_count": 38,
   "id": "4767da21",
   "metadata": {},
   "outputs": [
    {
     "name": "stdout",
     "output_type": "stream",
     "text": [
      "['hurt', 'propos', 'dramat', 'structur', 'system', 'compris', '1960s', '1980s', '1979', 'power', 'markov', 'margi', '1976', 'theoret', 'machin', 'histori', 'transform', 'e.g', 'although', 'start', 'under', 'interact', 'would', 'work', 'russian', 'howev', 'conduct', 'due', 'make', 'increas', 'wilenski', 'carbonel', 'weizenbaum', 'base', '1981', 'steadi', '1975', 'head', \"'s\", 'problem', 'period', 'research', 'fail', 'earlier', 'comput', 'use', 'reli', 'conceptu', 'algorithm', 'pam', 'shrdlu', 'robust', 'write', 'increas', 'set', 'languag', 'meehan', 'revolut', 'polit', '1954', 'restrict', 'corpus', '1950s', 'eliza', 'chatterbot', 'produc', 'exampl', 'result', 'moor', 'given', 'late', 'found', 'almost', 'first', 'unfamiliar', 'use', 'base', 'system', 'ontolog', 'fulfil', 'slower', '1977', 'racter', 'real-valu', 'featur', 'natur', 'whose', 'lessen', 'upon', '1978', 'jabberwacki', 'data', 'rule', 'reliabl', '1966', 'plot', 'vocabulari', 'inform', 'talespin', 'input', 'generic', 'rogerian', 'expect', 'process', 'began', 'sam', 'fulli', 'involv', 'make', 'sort', 'tree', 'error', 'hidden', 'cullingford', 'underpin', 'linguist', 'psychotherapist', 'english', 'computer-understand', 'five', 'might', 'lehnert', 'hand-written', 'focus', 'decis', 'fund', 'parri', 'speech', 'machine-learn', 'thought', 'includ', 'discourag', 'introduct', 'time', 'approach', 'larger', 'complex', 'gradual', 'cach', 'hard', '2', 'emot', 'publish', 'see', 'knowledg', 'test', 'littl', 'within', 'develop', 'notabl', 'block', 'three', 'sometim', 'law', 'year', 'patient', 'success', 'unit', 'respond', '1966.', 'progress', 'mani', 'articl', 'part-of-speech', 'respons', 'produc', 'alan', 'if-then', 'schank', 'introduc', 'real-world', \"''\", 'learn', 'earliest-us', 'qualm', 'statist', 'weight', 'author', 'written', 'experi', 'subtask', 'soft', 'translat', 'work', 'solv', 'ture', 'call', 'claim', 'integr', 'start', 'intellig', 'titl', 'exceed', 'provid', 'much', 'similar', 'especi', 'human', 'small', 'provid', 'ten-year-long', 'startl', 'human-lik', '1970s', 'grammar', 'automat', 'world', 'joseph', 'sixti', 'say', '``', 'general', 'reduc', 'report', 'domin', 'common', 'exist', 'criterion', 'attach', 'simul', 'model', 'sentenc', 'theori', 'contain', 'exampl', 'tag', 'multipl', 'programm', '1964', 'alpac', 'real', 'chomskyan', 'recognit', '3', 'probabilist', 'decis', 'georgetown', '1950']\n"
     ]
    }
   ],
   "source": [
    "Stemmed_list=[]\n",
    "stemObj=SnowballStemmer(\"english\")\n",
    "for i in set_wo_punctuation:\n",
    "    Stemmed_list.append(stemObj.stem(i))\n",
    "print(Stemmed_list)"
   ]
  },
  {
   "cell_type": "code",
   "execution_count": 39,
   "id": "698a1965",
   "metadata": {},
   "outputs": [
    {
     "name": "stdout",
     "output_type": "stream",
     "text": [
      "[('hurts', 'NNS'), ('proposed', 'VBD'), ('dramatically', 'RB'), ('structured', 'JJ'), ('system', 'NN'), ('comprising', 'VBG'), ('1960s', 'CD'), ('1980s', 'CD'), ('1979', 'CD'), ('power', 'NN'), ('markov', 'NN'), ('margie', 'NN'), ('1976', 'CD'), ('theoretical', 'JJ'), ('machine', 'NN'), ('history', 'NN'), ('transformational', 'JJ'), ('e.g', 'NN'), ('although', 'IN'), ('starting', 'VBG'), ('underlies', 'JJ'), ('interaction', 'NN'), ('would', 'MD'), ('working', 'VBG'), ('russian', 'JJ'), ('however', 'RB'), ('conducted', 'VBN'), ('due', 'JJ'), ('make', 'VBP'), ('increase', 'NN'), ('wilensky', 'NN'), ('carbonell', 'NN'), ('weizenbaum', 'IN'), ('base', 'NN'), ('1981', 'CD'), ('steady', 'JJ'), ('1975', 'CD'), ('head', 'NN'), (\"'s\", 'POS'), ('problem', 'NN'), ('periods', 'NNS'), ('research', 'NN'), ('failed', 'VBD'), ('earlier', 'RBR'), ('computational', 'JJ'), ('use', 'NN'), ('rely', 'JJ'), ('conceptual', 'JJ'), ('algorithms', 'NN'), ('pam', 'NN'), ('shrdlu', 'NN'), ('robust', 'JJ'), ('write', 'JJ'), ('increasingly', 'RB'), ('sets', 'VBZ'), ('language', 'NN'), ('meehan', 'JJ'), ('revolution', 'NN'), ('politics', 'NNS'), ('1954', 'CD'), ('restricted', 'VBD'), ('corpus', 'NN'), ('1950s', 'CD'), ('eliza', 'JJ'), ('chatterbots', 'NNS'), ('produced', 'VBD'), ('examples', 'NNS'), ('results', 'NNS'), ('moore', 'RB'), ('given', 'VBN'), ('late', 'JJ'), ('found', 'VBD'), ('almost', 'RB'), ('first', 'JJ'), ('unfamiliar', 'JJ'), ('using', 'VBG'), ('based', 'VBN'), ('systems', 'NNS'), ('ontologies', 'NNS'), ('fulfill', 'RB'), ('slower', 'JJR'), ('1977', 'CD'), ('racter', 'JJR'), ('real-valued', 'NN'), ('features', 'NNS'), ('natural', 'JJ'), ('whose', 'WP$'), ('lessening', 'VBG'), ('upon', 'IN'), ('1978', 'CD'), ('jabberwacky', 'JJ'), ('data', 'NNS'), ('rules', 'NNS'), ('reliable', 'JJ'), ('1966', 'CD'), ('plot', 'NN'), ('vocabularies', 'NNS'), ('information', 'NN'), ('talespin', 'NN'), ('input', 'NN'), ('generic', 'JJ'), ('rogerian', 'JJ'), ('expectations', 'NNS'), ('processing', 'VBG'), ('began', 'VBD'), ('sam', 'JJ'), ('fully', 'RB'), ('involved', 'VBN'), ('making', 'VBG'), ('sort', 'NN'), ('trees', 'NNS'), ('errors', 'NNS'), ('hidden', 'VBP'), ('cullingford', 'NN'), ('underpinnings', 'NNS'), ('linguistics', 'NNS'), ('psychotherapist', 'VBP'), ('english', 'JJ'), ('computer-understandable', 'JJ'), ('five', 'CD'), ('might', 'MD'), ('lehnert', 'VB'), ('hand-written', 'JJ'), ('focused', 'JJ'), ('decisions', 'NNS'), ('funding', 'VBG'), ('parry', 'NN'), ('speech', 'VBD'), ('machine-learning', 'JJ'), ('thought', 'NN'), ('including', 'VBG'), ('discouraged', 'VBN'), ('introduction', 'NN'), ('time', 'NN'), ('approach', 'NN'), ('larger', 'JJR'), ('complex', 'JJ'), ('gradual', 'JJ'), ('cache', 'NN'), ('hard', 'RB'), ('2', 'CD'), ('emotion', 'NN'), ('published', 'VBN'), ('see', 'VBP'), ('knowledge', 'JJ'), ('test', 'NN'), ('little', 'RB'), ('within', 'IN'), ('developed', 'VBN'), ('notably', 'RB'), ('blocks', 'NNS'), ('three', 'CD'), ('sometimes', 'RB'), ('law', 'NN'), ('years', 'NNS'), ('patient', 'JJ'), ('successful', 'JJ'), ('units', 'NNS'), ('responding', 'VBG'), ('1966.', 'CD'), ('progress', 'NN'), ('many', 'JJ'), ('article', 'NN'), ('part-of-speech', 'JJ'), ('response', 'NN'), ('produce', 'NN'), ('alan', 'JJ'), ('if-then', 'JJ'), ('schank', 'NN'), ('introduced', 'VBD'), ('real-world', 'NN'), (\"''\", \"''\"), ('learning', 'VBG'), ('earliest-used', 'JJ'), ('qualm', 'JJ'), ('statistical', 'JJ'), ('weights', 'NNS'), ('authors', 'NNS'), ('written', 'VBN'), ('experiment', 'JJ'), ('subtasks', 'NNS'), ('soft', 'JJ'), ('translation', 'NN'), ('work', 'NN'), ('solved', 'VBD'), ('turing', 'VBG'), ('called', 'VBN'), ('claimed', 'VBD'), ('integrated', 'VBN'), ('started', 'JJ'), ('intelligence', 'NN'), ('titled', 'VBD'), ('exceeded', 'VBD'), ('provided', 'VBN'), ('much', 'RB'), ('similar', 'JJ'), ('especially', 'RB'), ('human', 'JJ'), ('small', 'JJ'), ('provide', 'VB'), ('ten-year-long', 'JJ'), ('startlingly', 'RB'), ('human-like', 'JJ'), ('1970s', 'CD'), ('grammar', 'NN'), ('automatic', 'JJ'), ('worlds', 'NNS'), ('joseph', 'JJ'), ('sixty', 'NNS'), ('say', 'VBP'), ('``', '``'), ('generally', 'RB'), ('reduced', 'VBN'), ('report', 'NN'), ('dominance', 'NN'), ('common', 'JJ'), ('existing', 'VBG'), ('criterion', 'NN'), ('attaching', 'VBG'), ('simulation', 'NN'), ('models', 'NNS'), ('sentences', 'NNS'), ('theories', 'NNS'), ('contains', 'VBZ'), ('example', 'NN'), ('tagging', 'VBG'), ('multiple', 'JJ'), ('programmers', 'NNS'), ('1964', 'CD'), ('alpac', 'JJ'), ('real', 'JJ'), ('chomskyan', 'JJ'), ('recognition', 'NN'), ('3', 'CD'), ('probabilistic', 'JJ'), ('decision', 'NN'), ('georgetown', 'NN'), ('1950', 'CD')]\n"
     ]
    }
   ],
   "source": [
    "#parts of speech tagging\n",
    "pos_tag_list = pos_tag(set_wo_punctuation)\n",
    "print(pos_tag_list)"
   ]
  },
  {
   "cell_type": "code",
   "execution_count": 47,
   "id": "38683172",
   "metadata": {},
   "outputs": [
    {
     "name": "stdout",
     "output_type": "stream",
     "text": [
      "['hurt', 'propose', 'dramatically', 'structured', 'system', 'comprise', '1960s', '1980s', '1979', 'power', 'markov', 'margie', '1976', 'theoretical', 'machine', 'history', 'transformational', 'e.g', 'although', 'start', 'underlies', 'interaction', 'would', 'work', 'russian', 'however', 'conduct', 'due', 'make', 'increase', 'wilensky', 'carbonell', 'weizenbaum', 'base', '1981', 'steady', '1975', 'head', \"'s\", 'problem', 'period', 'research', 'fail', 'earlier', 'computational', 'use', 'rely', 'conceptual', 'algorithm', 'pam', 'shrdlu', 'robust', 'write', 'increasingly', 'set', 'language', 'meehan', 'revolution', 'politics', '1954', 'restrict', 'corpus', '1950s', 'eliza', 'chatterbots', 'produce', 'example', 'result', 'moore', 'give', 'late', 'find', 'almost', 'first', 'unfamiliar', 'use', 'base', 'system', 'ontology', 'fulfill', 'slow', '1977', 'racter', 'real-valued', 'feature', 'natural', 'whose', 'lessen', 'upon', '1978', 'jabberwacky', 'data', 'rule', 'reliable', '1966', 'plot', 'vocabulary', 'information', 'talespin', 'input', 'generic', 'rogerian', 'expectation', 'process', 'begin', 'sam', 'fully', 'involve', 'make', 'sort', 'tree', 'error', 'hide', 'cullingford', 'underpinnings', 'linguistics', 'psychotherapist', 'english', 'computer-understandable', 'five', 'might', 'lehnert', 'hand-written', 'focused', 'decision', 'fund', 'parry', 'speech', 'machine-learning', 'thought', 'include', 'discourage', 'introduction', 'time', 'approach', 'large', 'complex', 'gradual', 'cache', 'hard', '2', 'emotion', 'publish', 'see', 'knowledge', 'test', 'little', 'within', 'develop', 'notably', 'block', 'three', 'sometimes', 'law', 'year', 'patient', 'successful', 'unit', 'respond', '1966.', 'progress', 'many', 'article', 'part-of-speech', 'response', 'produce', 'alan', 'if-then', 'schank', 'introduce', 'real-world', \"''\", 'learn', 'earliest-used', 'qualm', 'statistical', 'weight', 'author', 'write', 'experiment', 'subtasks', 'soft', 'translation', 'work', 'solve', 'turing', 'call', 'claim', 'integrate', 'started', 'intelligence', 'title', 'exceed', 'provide', 'much', 'similar', 'especially', 'human', 'small', 'provide', 'ten-year-long', 'startlingly', 'human-like', '1970s', 'grammar', 'automatic', 'world', 'joseph', 'sixty', 'say', '``', 'generally', 'reduce', 'report', 'dominance', 'common', 'exist', 'criterion', 'attach', 'simulation', 'model', 'sentence', 'theory', 'contain', 'example', 'tag', 'multiple', 'programmer', '1964', 'alpac', 'real', 'chomskyan', 'recognition', '3', 'probabilistic', 'decision', 'georgetown', '1950']\n"
     ]
    }
   ],
   "source": [
    "#for getting parts of speech\n",
    "def parts_of_speech(pos):\n",
    "    if pos.startswith(\"N\"):\n",
    "        return wordnet.NOUN\n",
    "    elif pos.startswith(\"J\"):\n",
    "        return wordnet.ADJ\n",
    "    elif pos.startswith(\"V\"):\n",
    "        return wordnet.VERB\n",
    "    elif pos.startswith(\"R\"):\n",
    "        return wordnet.ADV\n",
    "    elif pos.startswith(\"S\"):\n",
    "        return wordnet.ADJ_SAT\n",
    "    else:\n",
    "        return ''\n",
    "#lemmatization\n",
    "lemma_list = []\n",
    "lemmaObj =  WordNetLemmatizer()\n",
    "for word,pos in pos_tag_list:\n",
    "    get_pos = parts_of_speech(pos)\n",
    "    if get_pos != '':\n",
    "        lemma_list.append(lemmaObj.lemmatize(word, pos = get_pos))\n",
    "    else:\n",
    "        lemma_list.append(word)\n",
    "print(lemma_list)"
   ]
  },
  {
   "cell_type": "code",
   "execution_count": 46,
   "id": "2272ce5c",
   "metadata": {},
   "outputs": [
    {
     "name": "stdout",
     "output_type": "stream",
     "text": [
      "['hurt', 'propose', 'dramatically', 'structured', 'system', 'comprise', '1960s', '1980s', '1979', 'power', 'markov', 'margie', '1976', 'theoretical', 'machine', 'history', 'transformational', 'e.g', 'although', 'start', 'underlies', 'interaction', 'would', 'work', 'russian', 'however', 'conduct', 'due', 'make', 'increase', 'wilensky', 'carbonell', 'weizenbaum', 'base', '1981', 'steady', '1975', 'head', \"'s\", 'problem', 'period', 'research', 'fail', 'earlier', 'computational', 'use', 'rely', 'conceptual', 'algorithm', 'pam', 'shrdlu', 'robust', 'write', 'increasingly', 'set', 'language', 'meehan', 'revolution', 'politics', '1954', 'restrict', 'corpus', '1950s', 'eliza', 'chatterbots', 'produce', 'example', 'result', 'moore', 'give', 'late', 'find', 'almost', 'first', 'unfamiliar', 'use', 'base', 'system', 'ontology', 'fulfill', 'slow', '1977', 'racter', 'real-valued', 'feature', 'natural', 'whose', 'lessen', 'upon', '1978', 'jabberwacky', 'data', 'rule', 'reliable', '1966', 'plot', 'vocabulary', 'information', 'talespin', 'input', 'generic', 'rogerian', 'expectation', 'process', 'begin', 'sam', 'fully', 'involve', 'make', 'sort', 'tree', 'error', 'hide', 'cullingford', 'underpinnings', 'linguistics', 'psychotherapist', 'english', 'computer-understandable', 'five', 'might', 'lehnert', 'hand-written', 'focused', 'decision', 'fund', 'parry', 'speech', 'machine-learning', 'thought', 'include', 'discourage', 'introduction', 'time', 'approach', 'large', 'complex', 'gradual', 'cache', 'hard', '2', 'emotion', 'publish', 'see', 'knowledge', 'test', 'little', 'within', 'develop', 'notably', 'block', 'three', 'sometimes', 'law', 'year', 'patient', 'successful', 'unit', 'respond', '1966.', 'progress', 'many', 'article', 'part-of-speech', 'response', 'produce', 'alan', 'if-then', 'schank', 'introduce', 'real-world', \"''\", 'learn', 'earliest-used', 'qualm', 'statistical', 'weight', 'author', 'write', 'experiment', 'subtasks', 'soft', 'translation', 'work', 'solve', 'turing', 'call', 'claim', 'integrate', 'started', 'intelligence', 'title', 'exceed', 'provide', 'much', 'similar', 'especially', 'human', 'small', 'provide', 'ten-year-long', 'startlingly', 'human-like', '1970s', 'grammar', 'automatic', 'world', 'joseph', 'sixty', 'say', '``', 'generally', 'reduce', 'report', 'dominance', 'common', 'exist', 'criterion', 'attach', 'simulation', 'model', 'sentence', 'theory', 'contain', 'example', 'tag', 'multiple', 'programmer', '1964', 'alpac', 'real', 'chomskyan', 'recognition', '3', 'probabilistic', 'decision', 'georgetown', '1950']\n"
     ]
    }
   ],
   "source": []
  },
  {
   "cell_type": "code",
   "execution_count": 50,
   "id": "a59cb600",
   "metadata": {
    "scrolled": true
   },
   "outputs": [
    {
     "name": "stdout",
     "output_type": "stream",
     "text": [
      "[('hurts', 'proposed'), ('proposed', 'dramatically'), ('dramatically', 'structured'), ('structured', 'system'), ('system', 'comprising'), ('comprising', '1960s'), ('1960s', '1980s'), ('1980s', '1979'), ('1979', 'power'), ('power', 'markov'), ('markov', 'margie'), ('margie', '1976'), ('1976', 'theoretical'), ('theoretical', 'machine'), ('machine', 'history'), ('history', 'transformational'), ('transformational', 'e.g'), ('e.g', 'although'), ('although', 'starting'), ('starting', 'underlies'), ('underlies', 'interaction'), ('interaction', 'would'), ('would', 'working'), ('working', 'russian'), ('russian', 'however'), ('however', 'conducted'), ('conducted', 'due'), ('due', 'make'), ('make', 'increase'), ('increase', 'wilensky'), ('wilensky', 'carbonell'), ('carbonell', 'weizenbaum'), ('weizenbaum', 'base'), ('base', '1981'), ('1981', 'steady'), ('steady', '1975'), ('1975', 'head'), ('head', \"'s\"), (\"'s\", 'problem'), ('problem', 'periods'), ('periods', 'research'), ('research', 'failed'), ('failed', 'earlier'), ('earlier', 'computational'), ('computational', 'use'), ('use', 'rely'), ('rely', 'conceptual'), ('conceptual', 'algorithms'), ('algorithms', 'pam'), ('pam', 'shrdlu'), ('shrdlu', 'robust'), ('robust', 'write'), ('write', 'increasingly'), ('increasingly', 'sets'), ('sets', 'language'), ('language', 'meehan'), ('meehan', 'revolution'), ('revolution', 'politics'), ('politics', '1954'), ('1954', 'restricted'), ('restricted', 'corpus'), ('corpus', '1950s'), ('1950s', 'eliza'), ('eliza', 'chatterbots'), ('chatterbots', 'produced'), ('produced', 'examples'), ('examples', 'results'), ('results', 'moore'), ('moore', 'given'), ('given', 'late'), ('late', 'found'), ('found', 'almost'), ('almost', 'first'), ('first', 'unfamiliar'), ('unfamiliar', 'using'), ('using', 'based'), ('based', 'systems'), ('systems', 'ontologies'), ('ontologies', 'fulfill'), ('fulfill', 'slower'), ('slower', '1977'), ('1977', 'racter'), ('racter', 'real-valued'), ('real-valued', 'features'), ('features', 'natural'), ('natural', 'whose'), ('whose', 'lessening'), ('lessening', 'upon'), ('upon', '1978'), ('1978', 'jabberwacky'), ('jabberwacky', 'data'), ('data', 'rules'), ('rules', 'reliable'), ('reliable', '1966'), ('1966', 'plot'), ('plot', 'vocabularies'), ('vocabularies', 'information'), ('information', 'talespin'), ('talespin', 'input'), ('input', 'generic'), ('generic', 'rogerian'), ('rogerian', 'expectations'), ('expectations', 'processing'), ('processing', 'began'), ('began', 'sam'), ('sam', 'fully'), ('fully', 'involved'), ('involved', 'making'), ('making', 'sort'), ('sort', 'trees'), ('trees', 'errors'), ('errors', 'hidden'), ('hidden', 'cullingford'), ('cullingford', 'underpinnings'), ('underpinnings', 'linguistics'), ('linguistics', 'psychotherapist'), ('psychotherapist', 'english'), ('english', 'computer-understandable'), ('computer-understandable', 'five'), ('five', 'might'), ('might', 'lehnert'), ('lehnert', 'hand-written'), ('hand-written', 'focused'), ('focused', 'decisions'), ('decisions', 'funding'), ('funding', 'parry'), ('parry', 'speech'), ('speech', 'machine-learning'), ('machine-learning', 'thought'), ('thought', 'including'), ('including', 'discouraged'), ('discouraged', 'introduction'), ('introduction', 'time'), ('time', 'approach'), ('approach', 'larger'), ('larger', 'complex'), ('complex', 'gradual'), ('gradual', 'cache'), ('cache', 'hard'), ('hard', '2'), ('2', 'emotion'), ('emotion', 'published'), ('published', 'see'), ('see', 'knowledge'), ('knowledge', 'test'), ('test', 'little'), ('little', 'within'), ('within', 'developed'), ('developed', 'notably'), ('notably', 'blocks'), ('blocks', 'three'), ('three', 'sometimes'), ('sometimes', 'law'), ('law', 'years'), ('years', 'patient'), ('patient', 'successful'), ('successful', 'units'), ('units', 'responding'), ('responding', '1966.'), ('1966.', 'progress'), ('progress', 'many'), ('many', 'article'), ('article', 'part-of-speech'), ('part-of-speech', 'response'), ('response', 'produce'), ('produce', 'alan'), ('alan', 'if-then'), ('if-then', 'schank'), ('schank', 'introduced'), ('introduced', 'real-world'), ('real-world', \"''\"), (\"''\", 'learning'), ('learning', 'earliest-used'), ('earliest-used', 'qualm'), ('qualm', 'statistical'), ('statistical', 'weights'), ('weights', 'authors'), ('authors', 'written'), ('written', 'experiment'), ('experiment', 'subtasks'), ('subtasks', 'soft'), ('soft', 'translation'), ('translation', 'work'), ('work', 'solved'), ('solved', 'turing'), ('turing', 'called'), ('called', 'claimed'), ('claimed', 'integrated'), ('integrated', 'started'), ('started', 'intelligence'), ('intelligence', 'titled'), ('titled', 'exceeded'), ('exceeded', 'provided'), ('provided', 'much'), ('much', 'similar'), ('similar', 'especially'), ('especially', 'human'), ('human', 'small'), ('small', 'provide'), ('provide', 'ten-year-long'), ('ten-year-long', 'startlingly'), ('startlingly', 'human-like'), ('human-like', '1970s'), ('1970s', 'grammar'), ('grammar', 'automatic'), ('automatic', 'worlds'), ('worlds', 'joseph'), ('joseph', 'sixty'), ('sixty', 'say'), ('say', '``'), ('``', 'generally'), ('generally', 'reduced'), ('reduced', 'report'), ('report', 'dominance'), ('dominance', 'common'), ('common', 'existing'), ('existing', 'criterion'), ('criterion', 'attaching'), ('attaching', 'simulation'), ('simulation', 'models'), ('models', 'sentences'), ('sentences', 'theories'), ('theories', 'contains'), ('contains', 'example'), ('example', 'tagging'), ('tagging', 'multiple'), ('multiple', 'programmers'), ('programmers', '1964'), ('1964', 'alpac'), ('alpac', 'real'), ('real', 'chomskyan'), ('chomskyan', 'recognition'), ('recognition', '3'), ('3', 'probabilistic'), ('probabilistic', 'decision'), ('decision', 'georgetown'), ('georgetown', '1950')]\n"
     ]
    }
   ],
   "source": [
    "#bigrams\n",
    "bigrams = ngrams(set_wo_punctuation,2)\n",
    "print(list(bigrams))\n"
   ]
  },
  {
   "cell_type": "code",
   "execution_count": null,
   "id": "710a62cc",
   "metadata": {},
   "outputs": [],
   "source": []
  }
 ],
 "metadata": {
  "kernelspec": {
   "display_name": "Python 3 (ipykernel)",
   "language": "python",
   "name": "python3"
  },
  "language_info": {
   "codemirror_mode": {
    "name": "ipython",
    "version": 3
   },
   "file_extension": ".py",
   "mimetype": "text/x-python",
   "name": "python",
   "nbconvert_exporter": "python",
   "pygments_lexer": "ipython3",
   "version": "3.11.5"
  }
 },
 "nbformat": 4,
 "nbformat_minor": 5
}
