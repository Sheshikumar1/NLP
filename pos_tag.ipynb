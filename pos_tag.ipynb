{
 "cells": [
  {
   "cell_type": "code",
   "execution_count": 4,
   "id": "39f23dbe",
   "metadata": {},
   "outputs": [],
   "source": [
    "import nltk"
   ]
  },
  {
   "cell_type": "code",
   "execution_count": 5,
   "id": "014cea4c",
   "metadata": {},
   "outputs": [],
   "source": [
    "import warnings\n",
    "warnings.filterwarnings('ignore')\n"
   ]
  },
  {
   "cell_type": "code",
   "execution_count": null,
   "id": "533e0fdf",
   "metadata": {},
   "outputs": [],
   "source": []
  },
  {
   "cell_type": "code",
   "execution_count": 7,
   "id": "2f1134e2",
   "metadata": {},
   "outputs": [
    {
     "name": "stdout",
     "output_type": "stream",
     "text": [
      "(S\n",
      "  (PERSON Barack/NNP)\n",
      "  (PERSON Hussein/NNP Obama/NNP)\n",
      "  (/(\n",
      "  born/VBN\n",
      "  August/NNP\n",
      "  4/CD\n",
      "  ,/,\n",
      "  1961/CD\n",
      "  )/)\n",
      "  is/VBZ\n",
      "  an/DT\n",
      "  (GPE American/JJ)\n",
      "  politician/NN\n",
      "  who/WP\n",
      "  served/VBD\n",
      "  as/IN\n",
      "  the/DT\n",
      "  44th/CD\n",
      "  President/NNP\n",
      "  of/IN\n",
      "  the/DT\n",
      "  (GPE United/NNP States/NNPS)\n",
      "  from/IN\n",
      "  January/NNP\n",
      "  20/CD\n",
      "  ,/,\n",
      "  2009/CD\n",
      "  ,/,\n",
      "  to/TO\n",
      "  January/NNP\n",
      "  20/CD\n",
      "  ,/,\n",
      "  2017/CD\n",
      "  ./.\n",
      "  A/DT\n",
      "  member/NN\n",
      "  of/IN\n",
      "  the/DT\n",
      "  (ORGANIZATION Democratic/NNP Party/NNP)\n",
      "  ,/,\n",
      "  he/PRP\n",
      "  was/VBD\n",
      "  the/DT\n",
      "  first/JJ\n",
      "  (ORGANIZATION African/JJ American/NNP)\n",
      "  to/TO\n",
      "  assume/VB\n",
      "  the/DT\n",
      "  presidency/NN\n",
      "  and/CC\n",
      "  previously/RB\n",
      "  served/VBD\n",
      "  as/IN\n",
      "  a/DT\n",
      "  (GPE United/NNP States/NNPS)\n",
      "  Senator/NNP\n",
      "  from/IN\n",
      "  (GPE Illinois/NNP)\n",
      "  (/(\n",
      "  2005–2008/CD\n",
      "  )/)\n",
      "  ./.)\n"
     ]
    }
   ],
   "source": [
    "from nltk import word_tokenize\n",
    "from nltk import pos_tag\n",
    "from nltk import ne_chunk\n",
    "barack = \"\"\"Barack Hussein Obama (born August 4, 1961) is an American politician \n",
    "who served as the 44th President of the United States from January 20, 2009, to January 20, 2017.\n",
    "A member of the Democratic Party, he was the first African American to assume the presidency \n",
    "and previously served as a United States Senator from Illinois (2005–2008).\"\"\"\n",
    "tokenised_barack = word_tokenize(barack)\n",
    "pos_list = pos_tag(tokenised_barack)\n",
    "print(ne_chunk(pos_list))\n"
   ]
  },
  {
   "cell_type": "code",
   "execution_count": 8,
   "id": "6d4e759c",
   "metadata": {},
   "outputs": [
    {
     "name": "stdout",
     "output_type": "stream",
     "text": [
      "(S\n",
      "  (Person Barack/NNP Hussein/NNP Obama/NNP II/NNP)\n",
      "  born/VBD\n",
      "  (Date August/NNP 4/CD ,/, 1961/CD)\n",
      "  )/)\n",
      "  is/VBZ\n",
      "  an/DT\n",
      "  American/JJ\n",
      "  politician/NN\n",
      "  who/WP\n",
      "  served/VBD\n",
      "  as/IN\n",
      "  the/DT\n",
      "  44th/CD\n",
      "  (Person President/NNP)\n",
      "  of/IN\n",
      "  the/DT\n",
      "  (Place United/NNP States/NNPS)\n",
      "  from/IN\n",
      "  (Date January/NNP 20/CD ,/, 2009/CD)\n",
      "  ,/,\n",
      "  to/TO\n",
      "  (Date January/NNP 20/CD ,/, 2017/CD)\n",
      "  ./.\n",
      "  A/DT\n",
      "  member/NN\n",
      "  of/IN\n",
      "  the/DT\n",
      "  (Person Democratic/NNP Party/NNP)\n",
      "  ,/,\n",
      "  he/PRP\n",
      "  was/VBD\n",
      "  the/DT\n",
      "  first/JJ\n",
      "  African/JJ\n",
      "  (Person American/NNP)\n",
      "  to/TO\n",
      "  assume/VB\n",
      "  the/DT\n",
      "  presidency/NN\n",
      "  and/CC\n",
      "  previously/RB\n",
      "  served/VBD\n",
      "  as/IN\n",
      "  a/DT\n",
      "  (Place United/NNP States/NNPS)\n",
      "  (Person Senator/NNP)\n",
      "  from/IN\n",
      "  (Person Illinois/NNP)\n",
      "  (/(\n",
      "  2005–2008/CD\n",
      "  )/)\n",
      "  ./.)\n"
     ]
    }
   ],
   "source": [
    "from nltk import RegexpParser\n",
    "from nltk import word_tokenize\n",
    "from nltk import pos_tag\n",
    "barack = \"\"\"Barack Hussein Obama II born August 4, 1961) is an American politician\n",
    "who served as the 44th President of \n",
    "the United States from January 20, 2009, to January 20, 2017.\n",
    "A member of the Democratic Party, he was the \n",
    "first African American to assume the presidency and previously\n",
    "served as a United States Senator from Illinois (2005–2008).\"\"\"\n",
    "grammar = r\"\"\"Place: {<NNP><NNPS>+}\n",
    "           Date: {<NNP><CD><,><CD>}\n",
    "           Person: {<NNP>+}\n",
    "           \"\"\"\n",
    "tokenised_barack = word_tokenize(barack)\n",
    "pos_list = pos_tag(tokenised_barack)\n",
    "regParser = RegexpParser(grammar)\n",
    "reg_lines = regParser.parse(pos_list)\n",
    "print(reg_lines)\n"
   ]
  },
  {
   "cell_type": "markdown",
   "id": "7cf51de3",
   "metadata": {},
   "source": [
    "### POS tagger"
   ]
  },
  {
   "cell_type": "code",
   "execution_count": 9,
   "id": "12dcf737",
   "metadata": {},
   "outputs": [
    {
     "name": "stdout",
     "output_type": "stream",
     "text": [
      "[('The', 'DT'), ('race', 'NN'), ('officials', 'NNS'), ('refused', 'VBD'), ('to', 'TO'), ('permit', 'VB'), ('the', 'DT'), ('team', 'NN'), ('to', 'TO'), ('race', 'NN'), ('today', 'NN')]\n"
     ]
    }
   ],
   "source": [
    "sent1 = \"The race officials refused to permit the team to race today\"\n",
    "print(pos_tag(word_tokenize(sent1)))\n"
   ]
  },
  {
   "cell_type": "markdown",
   "id": "3f8f3401",
   "metadata": {},
   "source": [
    "###### However, if you observe the statement and consult your knowledge of the English grammar, you will realize that the word 'race' here is being used as a noun in the first occurrence and as a verb in the second."
   ]
  },
  {
   "cell_type": "code",
   "execution_count": 10,
   "id": "d3ec518d",
   "metadata": {},
   "outputs": [
    {
     "name": "stdout",
     "output_type": "stream",
     "text": [
      "[('That', 'DT'), ('gentleman', 'NN'), ('wants', 'VBZ'), ('some', 'DT'), ('water', 'NN'), ('to', 'TO'), ('water', 'NN'), ('the', 'DT'), ('plants', 'NNS')]\n"
     ]
    }
   ],
   "source": [
    "sent2 = \"That gentleman wants some water to water the plants\"\n",
    "print(pos_tag(word_tokenize(sent2)))"
   ]
  },
  {
   "cell_type": "markdown",
   "id": "54a88218",
   "metadata": {},
   "source": [
    "###### These mistakes in tagging are primarily because of how the taggers classify words and on what kind of data they have been trained.Observe that the POS tagger gets the classification right for the below statement indicating that the error is not by default."
   ]
  },
  {
   "cell_type": "code",
   "execution_count": 11,
   "id": "95dc8722",
   "metadata": {},
   "outputs": [
    {
     "name": "stdout",
     "output_type": "stream",
     "text": [
      "[('They', 'PRP'), ('refuse', 'VBP'), ('to', 'TO'), ('permit', 'VB'), ('us', 'PRP'), ('to', 'TO'), ('obtain', 'VB'), ('the', 'DT'), ('refuse', 'NN'), ('permit', 'NN')]\n"
     ]
    }
   ],
   "source": [
    "text = word_tokenize(\"They refuse to permit us to obtain the refuse permit\")\n",
    "print(nltk.pos_tag(text))"
   ]
  },
  {
   "cell_type": "code",
   "execution_count": 12,
   "id": "9e64bbe7",
   "metadata": {},
   "outputs": [
    {
     "name": "stdout",
     "output_type": "stream",
     "text": [
      "NN\n",
      "[('Barack', 'NN'), ('Hussein', 'NN'), ('Obama', 'NN'), ('II', 'NN'), ('born', 'NN'), ('August', 'NN'), ('4', 'NN'), (',', 'NN'), ('1961', 'NN'), (')', 'NN'), ('is', 'NN'), ('an', 'NN'), ('American', 'NN'), ('politician', 'NN'), ('who', 'NN'), ('served', 'NN'), ('as', 'NN'), ('the', 'NN'), ('44th', 'NN'), ('President', 'NN'), ('of', 'NN'), ('the', 'NN'), ('United', 'NN'), ('States', 'NN'), ('from', 'NN'), ('January', 'NN'), ('20', 'NN'), (',', 'NN'), ('2009', 'NN'), (',', 'NN'), ('to', 'NN'), ('January', 'NN'), ('20', 'NN'), (',', 'NN'), ('2017', 'NN'), ('.', 'NN'), ('A', 'NN'), ('member', 'NN'), ('of', 'NN'), ('the', 'NN'), ('Democratic', 'NN'), ('Party', 'NN'), (',', 'NN'), ('he', 'NN'), ('was', 'NN'), ('the', 'NN'), ('first', 'NN'), ('African', 'NN'), ('American', 'NN'), ('to', 'NN'), ('assume', 'NN'), ('the', 'NN'), ('presidency', 'NN'), ('and', 'NN'), ('previously', 'NN'), ('served', 'NN'), ('as', 'NN'), ('a', 'NN'), ('United', 'NN'), ('States', 'NN'), ('Senator', 'NN'), ('from', 'NN'), ('Illinois', 'NN'), ('(', 'NN'), ('2005–2008', 'NN'), (')', 'NN'), ('.', 'NN')]\n"
     ]
    }
   ],
   "source": [
    "# importing a predefined corpus\n",
    "from nltk.corpus import brown\n",
    "# getting the most common tag in the brown corpus\n",
    "tags = [tag for (word,tag) in brown.tagged_words()]\n",
    "most_common_tag = nltk.FreqDist(tags).max()\n",
    "print(most_common_tag)\n",
    "\n",
    "from nltk import DefaultTagger\n",
    "default_tagger = DefaultTagger(most_common_tag)\n",
    "def_tagged_barack = default_tagger.tag(tokenised_barack)\n",
    "print(def_tagged_barack)\n",
    "\n"
   ]
  },
  {
   "cell_type": "code",
   "execution_count": 13,
   "id": "22623e87",
   "metadata": {},
   "outputs": [
    {
     "name": "stdout",
     "output_type": "stream",
     "text": [
      "[('the', 'DT'), ('quick', 'JJ'), ('brown', 'NN'), ('fox', 'NN'), ('jumps', 'VBZ'), ('over', 'IN'), ('the', 'DT'), ('lazy', 'JJ'), ('dog', 'NN')]\n"
     ]
    }
   ],
   "source": [
    "from nltk import word_tokenize\n",
    "sent1 = \"the quick brown fox jumps over the lazy dog\"\n",
    "training_tags = pos_tag(word_tokenize(sent1))\n",
    "print(training_tags)\n",
    "\n",
    "# Now let us use these tags to train the NgramTagger\n",
    "ngram_tagger = nltk.NgramTagger(n=2,train=[training_tags]) #Here when we set n=2, we are creating a bigram tagger\n"
   ]
  },
  {
   "cell_type": "code",
   "execution_count": 14,
   "id": "8245b341",
   "metadata": {},
   "outputs": [
    {
     "name": "stdout",
     "output_type": "stream",
     "text": [
      "[('the', 'DT'), ('lazy', 'JJ'), ('dog', 'NN'), ('was', None), ('jumped', None), ('over', None), ('by', None), ('the', None), ('quick', None), ('brown', None), ('fox', None)]\n"
     ]
    }
   ],
   "source": [
    "sent2 = \"the lazy dog was jumped over by the quick brown fox\"\n",
    "sent2_tags = ngram_tagger.tag(word_tokenize(sent2))\n",
    "print(sent2_tags)\n"
   ]
  },
  {
   "cell_type": "code",
   "execution_count": 15,
   "id": "e8dc2dcd",
   "metadata": {},
   "outputs": [
    {
     "name": "stdout",
     "output_type": "stream",
     "text": [
      "[(('the', 'DT'), ('quick', 'JJ')), (('quick', 'JJ'), ('brown', 'NN')), (('brown', 'NN'), ('fox', 'NN')), (('fox', 'NN'), ('jumps', 'VBZ')), (('jumps', 'VBZ'), ('over', 'IN')), (('over', 'IN'), ('the', 'DT')), (('the', 'DT'), ('lazy', 'JJ')), (('lazy', 'JJ'), ('dog', 'NN'))]\n"
     ]
    }
   ],
   "source": [
    "print(list(nltk.ngrams(pos_tag(word_tokenize(sent1)),n=2)))"
   ]
  },
  {
   "cell_type": "code",
   "execution_count": 16,
   "id": "b10dad52",
   "metadata": {},
   "outputs": [
    {
     "name": "stdout",
     "output_type": "stream",
     "text": [
      "[('the', 'lazy'), ('lazy', 'dog'), ('dog', 'was'), ('was', 'jumped'), ('jumped', 'over'), ('over', 'by'), ('by', 'the'), ('the', 'quick'), ('quick', 'brown'), ('brown', 'fox')]\n"
     ]
    }
   ],
   "source": [
    "print(list(nltk.ngrams(word_tokenize(sent2),n=2)))"
   ]
  },
  {
   "cell_type": "code",
   "execution_count": 17,
   "id": "909a058d",
   "metadata": {},
   "outputs": [
    {
     "name": "stdout",
     "output_type": "stream",
     "text": [
      "[('Donald', None), ('John', 'NNP'), ('Trump', None), ('(', '('), ('born', 'VBN'), ('June', None), ('14', None), (',', ','), ('1946', 'CD'), (')', ')'), ('is', 'VBZ'), ('the', 'DT'), ('45th', None), ('and', 'CC'), ('current', None), ('President', 'NNP'), ('of', 'IN'), ('the', 'DT'), ('United', 'NNP'), ('States', 'NNPS'), ('.', '.'), ('Before', None), ('entering', None), ('politics', None), (',', ','), ('he', 'PRP'), ('was', 'VBD'), ('a', 'DT'), ('businessman', None), ('and', 'CC'), ('television', None), ('personality', None), ('.', '.'), ('Trump', None), ('was', 'VBD'), ('born', 'VBN'), ('and', 'CC'), ('raised', None), ('in', 'IN'), ('the', 'DT'), ('New', 'NNP'), ('York', None), ('City', None), ('borough', None), ('of', 'IN'), ('Queens', None), (',', ','), ('and', 'CC'), ('received', None), ('an', 'DT'), ('economics', None), ('degree', None), ('from', 'IN'), ('the', 'DT'), ('Wharton', None), ('School', 'NNP'), ('of', 'IN'), ('the', 'DT'), ('University', 'NNP'), ('of', 'IN'), ('Pennsylvania', None), ('.', '.'), ('He', 'PRP'), ('took', None), ('charge', None), ('of', 'IN'), ('his', 'PRP$'), ('family', 'NN'), (\"'s\", 'POS'), ('real', None), ('estate', None), ('business', None), ('in', 'IN'), ('1971', None), (',', ','), ('renamed', None), ('it', None), ('The', None), ('Trump', None), ('Organization', None), (',', ','), ('and', 'CC'), ('expanded', None), ('it', None), ('from', 'IN'), ('Queens', None), ('and', 'CC'), ('Brooklyn', None), ('into', None), ('Manhattan', None), ('.', '.'), ('The', None), ('company', None), ('built', None), ('or', None), ('renovated', None), ('skyscrapers', None), (',', ','), ('hotels', None), (',', ','), ('casinos', None), (',', ','), ('and', 'CC'), ('golf', None), ('courses', None), ('.', '.'), ('Trump', None), ('later', 'RB'), ('started', None), ('various', None), ('side', None), ('ventures', None), (',', ','), ('including', None), ('licensing', None), ('his', 'PRP$'), ('name', None), ('for', 'IN'), ('real', None), ('estate', None), ('and', 'CC'), ('consumer', None), ('products', None), ('.', '.'), ('He', 'PRP'), ('managed', None), ('the', 'DT'), ('company', None), ('until', None), ('his', 'PRP$'), ('2017', 'CD'), ('inauguration', None), ('.', '.'), ('He', 'PRP'), ('co-authored', None), ('several', None), ('books', None), (',', ','), ('including', None), ('The', None), ('Art', None), ('of', 'IN'), ('the', 'DT'), ('Deal', None), ('.', '.'), ('He', 'PRP'), ('owned', None), ('the', 'DT'), ('Miss', None), ('Universe', None), ('and', 'CC'), ('Miss', None), ('USA', None), ('beauty', None), ('pageants', None), ('from', 'IN'), ('1996', None), ('to', 'TO'), ('2015', None), (',', ','), ('and', 'CC'), ('he', 'PRP'), ('produced', None), ('and', 'CC'), ('hosted', None), ('the', 'DT'), ('reality', None), ('television', None), ('show', None), ('The', None), ('Apprentice', None), ('from', 'IN'), ('2003', None), ('to', 'TO'), ('2015', None), ('.', '.'), ('Forbes', None), ('estimates', None), ('his', 'PRP$'), ('net', None), ('worth', None), ('to', 'TO'), ('be', 'VB'), ('$', None), ('3.1', None), ('billion', None), ('.', '.')]\n"
     ]
    }
   ],
   "source": [
    "barack = \"\"\"Barack Hussein Obama II born August 4, 1961) is an American politician\n",
    "who served as the 44th President of \n",
    "the United States from January 20, 2009, to January 20, 2017.\n",
    "A member of the Democratic Party, he was the \n",
    "first African American to assume the presidency and previously\n",
    "served as a United States Senator from Illinois (2005–2008).\"\"\"\n",
    "bush = \"\"\"George Walker Bush (born July 6, 1946) is an American politician who served as the 43rd President\n",
    " of the United States from 2001 to 2009.\n",
    "He had previously served as the 46th Governor of Texas from 1995 to 2000.\n",
    "Bush was born New Haven, Connecticut, and grew up in Texas. \n",
    "After graduating from Yale University in 1968 and Harvard Business School in 1975, he worked in the oil industry.\n",
    "Bush married Laura Welch in 1977 and unsuccessfully ran for the U.S. House of Representatives shortly thereafter. \n",
    "He later co-owned the Texas Rangers baseball team before defeating Ann Richards in the 1994 Texas gubernatorial election. \n",
    "Bush was elected President of the United States in 2000 when he defeated Democratic incumbent \n",
    "Vice President Al Gore after a close and controversial win that involved a stopped recount in Florida. \n",
    "He became the fourth person to be elected president while receiving fewer popular votes than his opponent.\n",
    "Bush is a member of a prominent political family and is the eldest son of Barbara and George H. W. Bush, \n",
    "the 41st President of the United States. \n",
    "He is only the second president to assume the nation's highest office after his father, following the footsteps\n",
    " of John Adams and his son, John Quincy Adams.\n",
    "His brother, Jeb Bush, a former Governor of Florida, was a candidate for the Republican presidential nomination\n",
    " in the 2016 presidential election. \n",
    "His paternal grandfather, Prescott Bush, was a U.S. Senator from Connecticut.\"\"\"\n",
    "pos_tag_barack = pos_tag(word_tokenize(barack))\n",
    "pos_tag_bush = pos_tag(word_tokenize(bush))\n",
    "trump = \"\"\"Donald John Trump (born June 14, 1946) is the 45th and current President of the United States.\n",
    "Before entering politics, he was a businessman and television personality. \n",
    "Trump was born and raised in the New York City borough of Queens, and received an economics degree from the\n",
    " Wharton School of the University of Pennsylvania. \n",
    "He took charge of his family's real estate business in 1971, renamed it The Trump Organization, and expanded \n",
    "it from Queens and Brooklyn into Manhattan. \n",
    "The company built or renovated skyscrapers, hotels, casinos, and golf courses. \n",
    "Trump later started various side ventures, including licensing his name for real estate and consumer products.\n",
    "He managed the company until his 2017 inauguration. \n",
    "He co-authored several books, including The Art of the Deal. He owned the Miss Universe and Miss USA beauty \n",
    "pageants from 1996 to 2015, and he produced and hosted the reality television show The Apprentice from 2003 to 2015.\n",
    "Forbes estimates his net worth to be $3.1 billion.\"\"\"\n",
    "unigram_tag = nltk.UnigramTagger(train=[pos_tag_barack,pos_tag_bush])\n",
    "trump_tags = unigram_tag.tag(word_tokenize(trump))\n",
    "print(trump_tags)\n"
   ]
  },
  {
   "cell_type": "code",
   "execution_count": 18,
   "id": "5ad3a7ae",
   "metadata": {},
   "outputs": [
    {
     "name": "stdout",
     "output_type": "stream",
     "text": [
      "[('Donald', 'NN'), ('John', 'NNP'), ('Trump', 'NN'), ('(', '('), ('born', 'VBN'), ('June', 'NN'), ('14', 'CD'), (',', ','), ('1946', 'CD'), (')', ')'), ('is', 'VBZ'), ('the', 'DT'), ('45th', 'NN'), ('and', 'CC'), ('current', 'NN'), ('President', 'NNP'), ('of', 'IN'), ('the', 'DT'), ('United', 'NNP'), ('States', 'NNPS'), ('.', '.'), ('Before', 'NN'), ('entering', 'VBG'), ('politics', 'NNS'), (',', ','), ('he', 'PRP'), ('was', 'VBD'), ('a', 'DT'), ('businessman', 'NN'), ('and', 'CC'), ('television', 'NN'), ('personality', 'NN'), ('.', '.'), ('Trump', 'NN'), ('was', 'VBD'), ('born', 'VBN'), ('and', 'CC'), ('raised', 'VBD'), ('in', 'IN'), ('the', 'DT'), ('New', 'NNP'), ('York', 'NN'), ('City', 'NN'), ('borough', 'NN'), ('of', 'IN'), ('Queens', 'NNS'), (',', ','), ('and', 'CC'), ('received', 'VBD'), ('an', 'DT'), ('economics', 'NNS'), ('degree', 'NN'), ('from', 'IN'), ('the', 'DT'), ('Wharton', 'NN'), ('School', 'NNP'), ('of', 'IN'), ('the', 'DT'), ('University', 'NNP'), ('of', 'IN'), ('Pennsylvania', 'NN'), ('.', '.'), ('He', 'PRP'), ('took', 'NN'), ('charge', 'NN'), ('of', 'IN'), ('his', 'PRP$'), ('family', 'NN'), (\"'s\", 'POS'), ('real', 'NN'), ('estate', 'NN'), ('business', 'NNS'), ('in', 'IN'), ('1971', 'CD'), (',', ','), ('renamed', 'VBD'), ('it', 'NN'), ('The', 'NN'), ('Trump', 'NN'), ('Organization', 'NN'), (',', ','), ('and', 'CC'), ('expanded', 'VBD'), ('it', 'NN'), ('from', 'IN'), ('Queens', 'NNS'), ('and', 'CC'), ('Brooklyn', 'NN'), ('into', 'NN'), ('Manhattan', 'NN'), ('.', '.'), ('The', 'NN'), ('company', 'NN'), ('built', 'NN'), ('or', 'NN'), ('renovated', 'VBD'), ('skyscrapers', 'NNS'), (',', ','), ('hotels', 'NNS'), (',', ','), ('casinos', 'NNS'), (',', ','), ('and', 'CC'), ('golf', 'NN'), ('courses', 'VBZ'), ('.', '.'), ('Trump', 'NN'), ('later', 'RB'), ('started', 'VBD'), ('various', 'NNS'), ('side', 'NN'), ('ventures', 'VBZ'), (',', ','), ('including', 'VBG'), ('licensing', 'VBG'), ('his', 'PRP$'), ('name', 'NN'), ('for', 'IN'), ('real', 'NN'), ('estate', 'NN'), ('and', 'CC'), ('consumer', 'NN'), ('products', 'NNS'), ('.', '.'), ('He', 'PRP'), ('managed', 'VBD'), ('the', 'DT'), ('company', 'NN'), ('until', 'NN'), ('his', 'PRP$'), ('2017', 'CD'), ('inauguration', 'NN'), ('.', '.'), ('He', 'PRP'), ('co-authored', 'VBD'), ('several', 'NN'), ('books', 'NNS'), (',', ','), ('including', 'VBG'), ('The', 'NN'), ('Art', 'NN'), ('of', 'IN'), ('the', 'DT'), ('Deal', 'NN'), ('.', '.'), ('He', 'PRP'), ('owned', 'VBD'), ('the', 'DT'), ('Miss', 'NNS'), ('Universe', 'NN'), ('and', 'CC'), ('Miss', 'NNS'), ('USA', 'NN'), ('beauty', 'NN'), ('pageants', 'NNS'), ('from', 'IN'), ('1996', 'CD'), ('to', 'TO'), ('2015', 'CD'), (',', ','), ('and', 'CC'), ('he', 'PRP'), ('produced', 'VBD'), ('and', 'CC'), ('hosted', 'VBD'), ('the', 'DT'), ('reality', 'NN'), ('television', 'NN'), ('show', 'NN'), ('The', 'NN'), ('Apprentice', 'NN'), ('from', 'IN'), ('2003', 'CD'), ('to', 'TO'), ('2015', 'CD'), ('.', '.'), ('Forbes', 'VBZ'), ('estimates', 'VBZ'), ('his', 'PRP$'), ('net', 'NN'), ('worth', 'NN'), ('to', 'TO'), ('be', 'VB'), ('$', 'NN'), ('3.1', 'CD'), ('billion', 'NN'), ('.', '.')]\n"
     ]
    }
   ],
   "source": [
    "default_tagger = DefaultTagger('NN')\n",
    "patterns = [(r'.*\\'s$', 'NN$'),(r'.*es$', 'VBZ'),(r'^-?[0-9]+(.[0-9]+)?$', 'CD'),(r'[Aa][Nn][Dd]','CC'),(r'.*ed$', 'VBD'),(r',',','),(r'.*ould$', 'MD'),(r'.*ing$', 'VBG'),(r'.*s$', 'NNS')]\n",
    "regexp_tagger = nltk.RegexpTagger(patterns,backoff=default_tagger)\n",
    "unigram_tag = nltk.UnigramTagger(train=[pos_tag_barack,pos_tag_bush],backoff=regexp_tagger)\n",
    "trump_tags = unigram_tag.tag(word_tokenize(trump))\n",
    "print(trump_tags)\n"
   ]
  },
  {
   "cell_type": "code",
   "execution_count": null,
   "id": "d66d5d1c",
   "metadata": {},
   "outputs": [],
   "source": []
  },
  {
   "cell_type": "code",
   "execution_count": null,
   "id": "6c8c6506",
   "metadata": {},
   "outputs": [],
   "source": []
  },
  {
   "cell_type": "code",
   "execution_count": null,
   "id": "7550dfb0",
   "metadata": {},
   "outputs": [],
   "source": []
  }
 ],
 "metadata": {
  "kernelspec": {
   "display_name": "Python 3 (ipykernel)",
   "language": "python",
   "name": "python3"
  },
  "language_info": {
   "codemirror_mode": {
    "name": "ipython",
    "version": 3
   },
   "file_extension": ".py",
   "mimetype": "text/x-python",
   "name": "python",
   "nbconvert_exporter": "python",
   "pygments_lexer": "ipython3",
   "version": "3.11.5"
  }
 },
 "nbformat": 4,
 "nbformat_minor": 5
}
